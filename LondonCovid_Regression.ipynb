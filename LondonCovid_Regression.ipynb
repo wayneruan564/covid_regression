{
 "cells": [
  {
   "cell_type": "code",
   "execution_count": 213,
   "id": "0cb303f4",
   "metadata": {},
   "outputs": [],
   "source": [
    "#In this project, we group up the london boroughs by certain characteristics and pick top 5 from each group.\n",
    "# We will then calculate the weekly cases per 100,000 for each region, which will be used to compare with the weekly london covid admission data. \n",
    "#The GOAL of this project is to find the characteristics that drives up hospital admissions.\n",
    "# Using the characteristics we find in the end, we can locate the boroughs that need extra medical assistance.\n",
    "\n",
    "import pandas as pd\n",
    "import plotly.express as px\n",
    "import matplotlib.pyplot as plt\n",
    "from scipy import stats\n",
    "\n",
    "from sklearn import linear_model\n",
    "import statsmodels.api as sm\n",
    "\n",
    "import geopandas as gpd\n",
    "\n",
    "from datetime import datetime, timedelta"
   ]
  },
  {
   "cell_type": "code",
   "execution_count": 214,
   "id": "d83453ac",
   "metadata": {},
   "outputs": [],
   "source": [
    "#retrieving the csv data on london borough population, cases, admissions, wage, etc.\n",
    "pop = pd.read_csv('london_borough_population.csv')\n",
    "pop = pop.rename(columns={\"NAME\": \"area_name\"})\n",
    "\n",
    "#vaccination data\n",
    "vaxRate = pd.read_csv('phe_vaccines_age_london_boroughs.csv')\n",
    "dailyCase = pd.read_csv('phe_cases_london_boroughs.csv')\n",
    "weekly_pay = pd.read_csv('london_weeklypay.csv')\n",
    "\n",
    "#population data\n",
    "populationData = pd.read_csv('london_population_ratio.csv')\n",
    "populationData = populationData.drop(columns = ['Code', 'Year'])\n",
    "\n",
    "#hospital admission data\n",
    "admission_df = pd.read_csv('phe_healthcare_admissions_age.csv')\n",
    "admission_df = admission_df.rename(columns={\"week_ending\": \"date\"})\n",
    "# admission_df.set_index('date', inplace=True)\n",
    "\n",
    "#demographic data from 2020.\n",
    "demographic_df = pd.read_csv('demographic_london.csv')\n",
    "\n",
    "fp = \"london_shapefile/London_Borough_Excluding_MHW.shp\"\n",
    "map_df = gpd.read_file(fp)\n",
    "map_df = map_df.rename(columns={\"NAME\": \"area_name\"})\n",
    "map_df = map_df.drop(columns = ['HECTARES', 'NONLD_AREA', 'ONS_INNER', 'SUB_2009', 'SUB_2006'])\n",
    "\n",
    "\n",
    "population_ratio = pd.merge(map_df, populationData, on='area_name')\n",
    "\n",
    "size = 10"
   ]
  },
  {
   "cell_type": "code",
   "execution_count": 215,
   "id": "353df42e",
   "metadata": {
    "scrolled": true
   },
   "outputs": [
    {
     "data": {
      "text/html": [
       "<div>\n",
       "<style scoped>\n",
       "    .dataframe tbody tr th:only-of-type {\n",
       "        vertical-align: middle;\n",
       "    }\n",
       "\n",
       "    .dataframe tbody tr th {\n",
       "        vertical-align: top;\n",
       "    }\n",
       "\n",
       "    .dataframe thead th {\n",
       "        text-align: right;\n",
       "    }\n",
       "</style>\n",
       "<table border=\"1\" class=\"dataframe\">\n",
       "  <thead>\n",
       "    <tr style=\"text-align: right;\">\n",
       "      <th></th>\n",
       "      <th>age_lower</th>\n",
       "      <th>age_higher</th>\n",
       "      <th>weekly_admissions</th>\n",
       "      <th>weekly_rate</th>\n",
       "    </tr>\n",
       "    <tr>\n",
       "      <th>date</th>\n",
       "      <th></th>\n",
       "      <th></th>\n",
       "      <th></th>\n",
       "      <th></th>\n",
       "    </tr>\n",
       "  </thead>\n",
       "  <tbody>\n",
       "    <tr>\n",
       "      <th>2020-03-21</th>\n",
       "      <td>174</td>\n",
       "      <td>255</td>\n",
       "      <td>537</td>\n",
       "      <td>88.6</td>\n",
       "    </tr>\n",
       "    <tr>\n",
       "      <th>2020-03-28</th>\n",
       "      <td>174</td>\n",
       "      <td>255</td>\n",
       "      <td>2759</td>\n",
       "      <td>417.4</td>\n",
       "    </tr>\n",
       "    <tr>\n",
       "      <th>2020-04-04</th>\n",
       "      <td>174</td>\n",
       "      <td>255</td>\n",
       "      <td>4535</td>\n",
       "      <td>606.8</td>\n",
       "    </tr>\n",
       "    <tr>\n",
       "      <th>2020-04-11</th>\n",
       "      <td>174</td>\n",
       "      <td>255</td>\n",
       "      <td>4516</td>\n",
       "      <td>713.4</td>\n",
       "    </tr>\n",
       "    <tr>\n",
       "      <th>2020-04-18</th>\n",
       "      <td>174</td>\n",
       "      <td>255</td>\n",
       "      <td>2687</td>\n",
       "      <td>442.1</td>\n",
       "    </tr>\n",
       "    <tr>\n",
       "      <th>...</th>\n",
       "      <td>...</td>\n",
       "      <td>...</td>\n",
       "      <td>...</td>\n",
       "      <td>...</td>\n",
       "    </tr>\n",
       "    <tr>\n",
       "      <th>2022-01-08</th>\n",
       "      <td>174</td>\n",
       "      <td>255</td>\n",
       "      <td>2410</td>\n",
       "      <td>366.8</td>\n",
       "    </tr>\n",
       "    <tr>\n",
       "      <th>2022-01-15</th>\n",
       "      <td>174</td>\n",
       "      <td>255</td>\n",
       "      <td>2065</td>\n",
       "      <td>338.7</td>\n",
       "    </tr>\n",
       "    <tr>\n",
       "      <th>2022-01-22</th>\n",
       "      <td>174</td>\n",
       "      <td>255</td>\n",
       "      <td>1742</td>\n",
       "      <td>286.7</td>\n",
       "    </tr>\n",
       "    <tr>\n",
       "      <th>2022-01-29</th>\n",
       "      <td>174</td>\n",
       "      <td>255</td>\n",
       "      <td>1449</td>\n",
       "      <td>223.4</td>\n",
       "    </tr>\n",
       "    <tr>\n",
       "      <th>2022-02-05</th>\n",
       "      <td>174</td>\n",
       "      <td>255</td>\n",
       "      <td>1305</td>\n",
       "      <td>217.8</td>\n",
       "    </tr>\n",
       "  </tbody>\n",
       "</table>\n",
       "<p>99 rows × 4 columns</p>\n",
       "</div>"
      ],
      "text/plain": [
       "            age_lower  age_higher  weekly_admissions  weekly_rate\n",
       "date                                                             \n",
       "2020-03-21        174         255                537         88.6\n",
       "2020-03-28        174         255               2759        417.4\n",
       "2020-04-04        174         255               4535        606.8\n",
       "2020-04-11        174         255               4516        713.4\n",
       "2020-04-18        174         255               2687        442.1\n",
       "...               ...         ...                ...          ...\n",
       "2022-01-08        174         255               2410        366.8\n",
       "2022-01-15        174         255               2065        338.7\n",
       "2022-01-22        174         255               1742        286.7\n",
       "2022-01-29        174         255               1449        223.4\n",
       "2022-02-05        174         255               1305        217.8\n",
       "\n",
       "[99 rows x 4 columns]"
      ]
     },
     "execution_count": 215,
     "metadata": {},
     "output_type": "execute_result"
    }
   ],
   "source": [
    "admission_df\n",
    "admission_df = admission_df.groupby('date').sum()\n",
    "admission_df"
   ]
  },
  {
   "cell_type": "code",
   "execution_count": 216,
   "id": "f8c5fcfd",
   "metadata": {},
   "outputs": [
    {
     "data": {
      "text/html": [
       "<div>\n",
       "<style scoped>\n",
       "    .dataframe tbody tr th:only-of-type {\n",
       "        vertical-align: middle;\n",
       "    }\n",
       "\n",
       "    .dataframe tbody tr th {\n",
       "        vertical-align: top;\n",
       "    }\n",
       "\n",
       "    .dataframe thead th {\n",
       "        text-align: right;\n",
       "    }\n",
       "</style>\n",
       "<table border=\"1\" class=\"dataframe\">\n",
       "  <thead>\n",
       "    <tr style=\"text-align: right;\">\n",
       "      <th></th>\n",
       "      <th>area_code</th>\n",
       "      <th>area_name</th>\n",
       "      <th>White</th>\n",
       "      <th>Asian</th>\n",
       "      <th>Black</th>\n",
       "      <th>Mixed/ Other</th>\n",
       "      <th>Total</th>\n",
       "      <th>White%Population</th>\n",
       "    </tr>\n",
       "  </thead>\n",
       "  <tbody>\n",
       "    <tr>\n",
       "      <th>0</th>\n",
       "      <td>E09000002</td>\n",
       "      <td>Barking and Dagenham</td>\n",
       "      <td>99,000</td>\n",
       "      <td>55,000</td>\n",
       "      <td>51,000</td>\n",
       "      <td>16,000</td>\n",
       "      <td>222,000</td>\n",
       "      <td>45%</td>\n",
       "    </tr>\n",
       "    <tr>\n",
       "      <th>1</th>\n",
       "      <td>E09000003</td>\n",
       "      <td>Barnet</td>\n",
       "      <td>255,000</td>\n",
       "      <td>79,000</td>\n",
       "      <td>28,000</td>\n",
       "      <td>35,000</td>\n",
       "      <td>398,000</td>\n",
       "      <td>64%</td>\n",
       "    </tr>\n",
       "    <tr>\n",
       "      <th>2</th>\n",
       "      <td>E09000004</td>\n",
       "      <td>Bexley</td>\n",
       "      <td>188,000</td>\n",
       "      <td>20,000</td>\n",
       "      <td>28,000</td>\n",
       "      <td>18,000</td>\n",
       "      <td>254,000</td>\n",
       "      <td>74%</td>\n",
       "    </tr>\n",
       "    <tr>\n",
       "      <th>3</th>\n",
       "      <td>E09000005</td>\n",
       "      <td>Brent</td>\n",
       "      <td>117,000</td>\n",
       "      <td>138,000</td>\n",
       "      <td>40,000</td>\n",
       "      <td>37,000</td>\n",
       "      <td>332,000</td>\n",
       "      <td>35%</td>\n",
       "    </tr>\n",
       "    <tr>\n",
       "      <th>4</th>\n",
       "      <td>E09000006</td>\n",
       "      <td>Bromley</td>\n",
       "      <td>264,000</td>\n",
       "      <td>25,000</td>\n",
       "      <td>23,000</td>\n",
       "      <td>25,000</td>\n",
       "      <td>338,000</td>\n",
       "      <td>78%</td>\n",
       "    </tr>\n",
       "  </tbody>\n",
       "</table>\n",
       "</div>"
      ],
      "text/plain": [
       "   area_code             area_name    White    Asian   Black Mixed/ Other  \\\n",
       "0  E09000002  Barking and Dagenham   99,000   55,000  51,000       16,000   \n",
       "1  E09000003                Barnet  255,000   79,000  28,000       35,000   \n",
       "2  E09000004                Bexley  188,000   20,000  28,000       18,000   \n",
       "3  E09000005                 Brent  117,000  138,000  40,000       37,000   \n",
       "4  E09000006               Bromley  264,000   25,000  23,000       25,000   \n",
       "\n",
       "     Total White%Population  \n",
       "0  222,000              45%  \n",
       "1  398,000              64%  \n",
       "2  254,000              74%  \n",
       "3  332,000              35%  \n",
       "4  338,000              78%  "
      ]
     },
     "execution_count": 216,
     "metadata": {},
     "output_type": "execute_result"
    }
   ],
   "source": [
    "demographic_df.head()"
   ]
  },
  {
   "cell_type": "code",
   "execution_count": 217,
   "id": "d2a73691",
   "metadata": {},
   "outputs": [
    {
     "data": {
      "text/html": [
       "<div>\n",
       "<style scoped>\n",
       "    .dataframe tbody tr th:only-of-type {\n",
       "        vertical-align: middle;\n",
       "    }\n",
       "\n",
       "    .dataframe tbody tr th {\n",
       "        vertical-align: top;\n",
       "    }\n",
       "\n",
       "    .dataframe thead th {\n",
       "        text-align: right;\n",
       "    }\n",
       "</style>\n",
       "<table border=\"1\" class=\"dataframe\">\n",
       "  <thead>\n",
       "    <tr style=\"text-align: right;\">\n",
       "      <th></th>\n",
       "      <th>area_name</th>\n",
       "      <th>White%Population</th>\n",
       "    </tr>\n",
       "  </thead>\n",
       "  <tbody>\n",
       "    <tr>\n",
       "      <th>9</th>\n",
       "      <td>Greenwich</td>\n",
       "      <td>54%</td>\n",
       "    </tr>\n",
       "    <tr>\n",
       "      <th>15</th>\n",
       "      <td>Hillingdon</td>\n",
       "      <td>49%</td>\n",
       "    </tr>\n",
       "    <tr>\n",
       "      <th>28</th>\n",
       "      <td>Tower Hamlets</td>\n",
       "      <td>49%</td>\n",
       "    </tr>\n",
       "    <tr>\n",
       "      <th>7</th>\n",
       "      <td>Ealing</td>\n",
       "      <td>47%</td>\n",
       "    </tr>\n",
       "    <tr>\n",
       "      <th>23</th>\n",
       "      <td>Newham</td>\n",
       "      <td>46%</td>\n",
       "    </tr>\n",
       "    <tr>\n",
       "      <th>0</th>\n",
       "      <td>Barking and Dagenham</td>\n",
       "      <td>45%</td>\n",
       "    </tr>\n",
       "    <tr>\n",
       "      <th>16</th>\n",
       "      <td>Hounslow</td>\n",
       "      <td>45%</td>\n",
       "    </tr>\n",
       "    <tr>\n",
       "      <th>24</th>\n",
       "      <td>Redbridge</td>\n",
       "      <td>42%</td>\n",
       "    </tr>\n",
       "    <tr>\n",
       "      <th>13</th>\n",
       "      <td>Harrow</td>\n",
       "      <td>41%</td>\n",
       "    </tr>\n",
       "    <tr>\n",
       "      <th>3</th>\n",
       "      <td>Brent</td>\n",
       "      <td>35%</td>\n",
       "    </tr>\n",
       "  </tbody>\n",
       "</table>\n",
       "</div>"
      ],
      "text/plain": [
       "               area_name White%Population\n",
       "9              Greenwich              54%\n",
       "15            Hillingdon              49%\n",
       "28         Tower Hamlets              49%\n",
       "7                 Ealing              47%\n",
       "23                Newham              46%\n",
       "0   Barking and Dagenham              45%\n",
       "16              Hounslow              45%\n",
       "24             Redbridge              42%\n",
       "13                Harrow              41%\n",
       "3                  Brent              35%"
      ]
     },
     "execution_count": 217,
     "metadata": {},
     "output_type": "execute_result"
    }
   ],
   "source": [
    "#top boroughs with highest and lowest WEEKLY pay\n",
    "highPay = weekly_pay.iloc[1:].sort_values('Weekly_Pay', ascending=False).head(size).rename(columns={\"Area\":\"area_name\"})\n",
    "lowPay = weekly_pay.iloc[1:].sort_values('Weekly_Pay', ascending=False).tail(size).rename(columns={\"Area\":\"area_name\"})\n",
    "\n",
    "\n",
    "#top 5 boroughs big and small population.\n",
    "largePop = pop.sort_values('Population', ascending=False).head(size).rename(columns={\"NAME\":\"area_name\"})\n",
    "smallPop = pop.sort_values('Population', ascending=False).tail(size).rename(columns={\"NAME\":\"area_name\"})\n",
    "\n",
    "\n",
    "#top boroughs with highest and lowest male to female ratio. \n",
    "MFRatio_high = population_ratio[['area_name', 'M/F_ratio']].sort_values('M/F_ratio', ascending=False).head(size)\n",
    "MFRatio_low = population_ratio[['area_name', 'M/F_ratio']].sort_values('M/F_ratio', ascending=False).tail(size)\n",
    "MFRatio_high\n",
    "\n",
    "\n",
    "#top boroughs with highest and lowest White population.\n",
    "Whitepopulation_high = demographic_df[['area_name', 'White%Population']].sort_values('White%Population', ascending=False).head(size)\n",
    "Whitepopulation_low = demographic_df[['area_name', 'White%Population']].sort_values('White%Population', ascending=False).tail(size)\n",
    "\n",
    "\n",
    "\n",
    "#VAX RATE\n",
    "#find the most recent data on 3rd dose vaccination.\n",
    "recent = vaxRate.loc[vaxRate['date'] == '2022-02-21']\n",
    "\n",
    "#Third Dose\n",
    "third_dose = recent[['area_name', 'age_band', 'cum_doses', 'population']].loc[vaxRate['dose'] == '3rd dose'].groupby(by='area_name').sum()\n",
    "third_dose['third_dose_rate'] = third_dose['cum_doses'] / third_dose['population']\n",
    "third_dose = third_dose.drop(columns={'cum_doses', 'population'})\n",
    "\n",
    "\n",
    "#top 5 borough with highest and lowest vax rate. Third Dose\n",
    "highVaxRate_third = third_dose.sort_values('third_dose_rate', ascending=False).head(size)\n",
    "lowVaxRate_third = third_dose.sort_values('third_dose_rate', ascending=False).tail(size)\n",
    "highVaxRate_third.reset_index(inplace=True)\n",
    "lowVaxRate_third.reset_index(inplace=True)\n",
    "\n",
    "\n",
    "# Collect vaccination data on people under the age of 17, classified as young people.\n",
    "third_dose_young = recent[['area_name', 'date', 'age_band', 'age_higher', 'cum_doses', 'population']].loc[vaxRate['dose'] == '3rd dose'].loc[recent['age_higher'] <= 17].groupby(by='area_name').sum().drop(columns={'age_higher'})\n",
    "third_dose_young['third_dose_rate'] = third_dose_young['cum_doses'] / third_dose_young['population']\n",
    "third_dose_young_high = third_dose_young.sort_values('third_dose_rate', ascending=False).head(size)\n",
    "third_dose_young_low = third_dose_young.sort_values('third_dose_rate', ascending=False).tail(size)\n",
    "\n",
    "\n",
    "#top boroughs with highest and lowest percentage of old people.\n",
    "oldPopulation_high = population_ratio[['area_name', 'Old_rest_ratio']].sort_values('Old_rest_ratio', ascending=False).head(size)\n",
    "oldPopulation_low = population_ratio[['area_name', 'Old_rest_ratio']].sort_values('Old_rest_ratio', ascending=False).tail(size)\n",
    "\n",
    "\n",
    "Whitepopulation_low"
   ]
  },
  {
   "cell_type": "code",
   "execution_count": 218,
   "id": "0efc0055",
   "metadata": {},
   "outputs": [
    {
     "data": {
      "text/html": [
       "<div>\n",
       "<style scoped>\n",
       "    .dataframe tbody tr th:only-of-type {\n",
       "        vertical-align: middle;\n",
       "    }\n",
       "\n",
       "    .dataframe tbody tr th {\n",
       "        vertical-align: top;\n",
       "    }\n",
       "\n",
       "    .dataframe thead th {\n",
       "        text-align: right;\n",
       "    }\n",
       "</style>\n",
       "<table border=\"1\" class=\"dataframe\">\n",
       "  <thead>\n",
       "    <tr style=\"text-align: right;\">\n",
       "      <th></th>\n",
       "      <th>area_name</th>\n",
       "      <th>area_code</th>\n",
       "      <th>date</th>\n",
       "      <th>new_cases</th>\n",
       "      <th>total_cases</th>\n",
       "    </tr>\n",
       "  </thead>\n",
       "  <tbody>\n",
       "    <tr>\n",
       "      <th>0</th>\n",
       "      <td>Barking and Dagenham</td>\n",
       "      <td>E09000002</td>\n",
       "      <td>2020-02-11</td>\n",
       "      <td>0.0</td>\n",
       "      <td>0</td>\n",
       "    </tr>\n",
       "    <tr>\n",
       "      <th>1</th>\n",
       "      <td>Barking and Dagenham</td>\n",
       "      <td>E09000002</td>\n",
       "      <td>2020-02-12</td>\n",
       "      <td>0.0</td>\n",
       "      <td>0</td>\n",
       "    </tr>\n",
       "    <tr>\n",
       "      <th>2</th>\n",
       "      <td>Barking and Dagenham</td>\n",
       "      <td>E09000002</td>\n",
       "      <td>2020-02-13</td>\n",
       "      <td>0.0</td>\n",
       "      <td>0</td>\n",
       "    </tr>\n",
       "    <tr>\n",
       "      <th>3</th>\n",
       "      <td>Barking and Dagenham</td>\n",
       "      <td>E09000002</td>\n",
       "      <td>2020-02-14</td>\n",
       "      <td>0.0</td>\n",
       "      <td>0</td>\n",
       "    </tr>\n",
       "    <tr>\n",
       "      <th>4</th>\n",
       "      <td>Barking and Dagenham</td>\n",
       "      <td>E09000002</td>\n",
       "      <td>2020-02-15</td>\n",
       "      <td>0.0</td>\n",
       "      <td>0</td>\n",
       "    </tr>\n",
       "  </tbody>\n",
       "</table>\n",
       "</div>"
      ],
      "text/plain": [
       "              area_name  area_code        date  new_cases  total_cases\n",
       "0  Barking and Dagenham  E09000002  2020-02-11        0.0            0\n",
       "1  Barking and Dagenham  E09000002  2020-02-12        0.0            0\n",
       "2  Barking and Dagenham  E09000002  2020-02-13        0.0            0\n",
       "3  Barking and Dagenham  E09000002  2020-02-14        0.0            0\n",
       "4  Barking and Dagenham  E09000002  2020-02-15        0.0            0"
      ]
     },
     "execution_count": 218,
     "metadata": {},
     "output_type": "execute_result"
    }
   ],
   "source": [
    "#convert the daily Case data into daily case per 100,000 people. \n",
    "dailyCase_df = pd.merge(dailyCase, pop, on='area_name')\n",
    "dailyCase_df['new_cases'] = dailyCase_df['new_cases'].div(dailyCase_df['Population'], axis=0)\n",
    "dailyCase_df['new_cases'] = round(dailyCase_df['new_cases'] * 100000)\n",
    "dailyCase_df = dailyCase_df.drop(columns=['Population'])\n",
    "\n",
    "dailyCase_df.head()"
   ]
  },
  {
   "cell_type": "code",
   "execution_count": null,
   "id": "cc203632",
   "metadata": {},
   "outputs": [],
   "source": []
  },
  {
   "cell_type": "code",
   "execution_count": 219,
   "id": "995a3623",
   "metadata": {},
   "outputs": [],
   "source": [
    "#merging the groups with dailyCase_df to collect data from ONLY  the boroughs in the groups.\n",
    "#Then we group up the boroughs by date. We will compare each group on a collective basis.\n",
    "\n",
    "new_cases_high_pay = pd.merge(dailyCase_df, highPay, on='area_name').groupby(by='date').sum().drop(columns=['total_cases', 'Unnamed: 2'])\n",
    "\n",
    "new_cases_low_pay = pd.merge(dailyCase_df, lowPay, on='area_name').groupby(by='date').sum().drop(columns=['total_cases', 'Unnamed: 2'])\n",
    "\n",
    "new_cases_small_pop = pd.merge(dailyCase_df, smallPop, on='area_name').groupby(by='date').sum().drop(columns=['total_cases', 'Population'])\n",
    "\n",
    "new_cases_large_pop = pd.merge(dailyCase_df, largePop, on='area_name').groupby(by='date').sum().drop(columns=['total_cases', 'Population'])\n",
    "\n",
    "new_cases_male_to_female_high = pd.merge(dailyCase_df, MFRatio_high, on='area_name').groupby(by='date').sum().drop(columns=['total_cases','M/F_ratio'])\n",
    "\n",
    "new_cases_male_to_female_low = pd.merge(dailyCase_df, MFRatio_low, on='area_name').groupby(by='date').sum().drop(columns=['total_cases','M/F_ratio'])\n",
    "\n",
    "\n",
    "new_cases_white_population_high = pd.merge(dailyCase_df, Whitepopulation_high, on='area_name').groupby(by='date').sum().drop(columns=['total_cases'])\n",
    "new_cases_white_population_low = pd.merge(dailyCase_df, Whitepopulation_low, on='area_name').groupby(by='date').sum().drop(columns=['total_cases'])\n",
    "\n",
    "\n",
    "new_cases_third_dose_high = pd.merge(dailyCase_df, highVaxRate_third, on='area_name').groupby(by='date').sum().drop(columns=['total_cases','third_dose_rate'])\n",
    "new_cases_third_dose_low = pd.merge(dailyCase_df, lowVaxRate_third, on='area_name').groupby(by='date').sum().drop(columns=['total_cases','third_dose_rate'])\n",
    "\n",
    "\n",
    "new_cases_third_dose_young_high = pd.merge(dailyCase_df, third_dose_young_high, on='area_name').groupby(by='date').sum().drop(columns=['total_cases','third_dose_rate', 'population', 'cum_doses'])\n",
    "new_cases_third_dose_young_low = pd.merge(dailyCase_df, third_dose_young_low, on='area_name').groupby(by='date').sum().drop(columns=['total_cases','third_dose_rate', 'population', 'cum_doses'])\n",
    "\n",
    "\n",
    "new_cases_old_population_large = pd.merge(dailyCase_df, oldPopulation_high, on='area_name').drop(columns=['Old_rest_ratio'])\n",
    "new_cases_old_population_large = new_cases_old_population_large.groupby(by='date').sum().rename(columns={\"new_cases\":\"new_cases_largeOldPopulation\"}).drop(columns= ['total_cases'])\n",
    "\n",
    "new_cases_old_population_small = pd.merge(dailyCase_df, oldPopulation_low, on='area_name').drop(columns=['Old_rest_ratio'])\n",
    "new_cases_old_population_small = new_cases_old_population_small.groupby(by='date').sum().rename(columns={\"new_cases\":\"new_cases_smallOldPopulation\"}).drop(columns= ['total_cases'])\n"
   ]
  },
  {
   "cell_type": "code",
   "execution_count": null,
   "id": "d978c943",
   "metadata": {},
   "outputs": [],
   "source": []
  },
  {
   "cell_type": "code",
   "execution_count": 220,
   "id": "6fd0886a",
   "metadata": {},
   "outputs": [
    {
     "data": {
      "text/html": [
       "<div>\n",
       "<style scoped>\n",
       "    .dataframe tbody tr th:only-of-type {\n",
       "        vertical-align: middle;\n",
       "    }\n",
       "\n",
       "    .dataframe tbody tr th {\n",
       "        vertical-align: top;\n",
       "    }\n",
       "\n",
       "    .dataframe thead th {\n",
       "        text-align: right;\n",
       "    }\n",
       "</style>\n",
       "<table border=\"1\" class=\"dataframe\">\n",
       "  <thead>\n",
       "    <tr style=\"text-align: right;\">\n",
       "      <th></th>\n",
       "      <th>new_cases</th>\n",
       "    </tr>\n",
       "    <tr>\n",
       "      <th>date</th>\n",
       "      <th></th>\n",
       "    </tr>\n",
       "  </thead>\n",
       "  <tbody>\n",
       "    <tr>\n",
       "      <th>2020-02-22</th>\n",
       "      <td>0.0</td>\n",
       "    </tr>\n",
       "    <tr>\n",
       "      <th>2020-02-29</th>\n",
       "      <td>2.0</td>\n",
       "    </tr>\n",
       "    <tr>\n",
       "      <th>2020-03-07</th>\n",
       "      <td>13.0</td>\n",
       "    </tr>\n",
       "    <tr>\n",
       "      <th>2020-03-14</th>\n",
       "      <td>105.0</td>\n",
       "    </tr>\n",
       "    <tr>\n",
       "      <th>2020-03-21</th>\n",
       "      <td>209.0</td>\n",
       "    </tr>\n",
       "    <tr>\n",
       "      <th>...</th>\n",
       "      <td>...</td>\n",
       "    </tr>\n",
       "    <tr>\n",
       "      <th>2022-01-15</th>\n",
       "      <td>9407.0</td>\n",
       "    </tr>\n",
       "    <tr>\n",
       "      <th>2022-01-22</th>\n",
       "      <td>9675.0</td>\n",
       "    </tr>\n",
       "    <tr>\n",
       "      <th>2022-01-29</th>\n",
       "      <td>9662.0</td>\n",
       "    </tr>\n",
       "    <tr>\n",
       "      <th>2022-02-05</th>\n",
       "      <td>7867.0</td>\n",
       "    </tr>\n",
       "    <tr>\n",
       "      <th>2022-02-12</th>\n",
       "      <td>447.0</td>\n",
       "    </tr>\n",
       "  </tbody>\n",
       "</table>\n",
       "<p>104 rows × 1 columns</p>\n",
       "</div>"
      ],
      "text/plain": [
       "            new_cases\n",
       "date                 \n",
       "2020-02-22        0.0\n",
       "2020-02-29        2.0\n",
       "2020-03-07       13.0\n",
       "2020-03-14      105.0\n",
       "2020-03-21      209.0\n",
       "...               ...\n",
       "2022-01-15     9407.0\n",
       "2022-01-22     9675.0\n",
       "2022-01-29     9662.0\n",
       "2022-02-05     7867.0\n",
       "2022-02-12      447.0\n",
       "\n",
       "[104 rows x 1 columns]"
      ]
     },
     "execution_count": 220,
     "metadata": {},
     "output_type": "execute_result"
    }
   ],
   "source": [
    "#Converting daily data into weekly data, ending on Mondays. \n",
    "#This way, we can merge with the admission data, which was reported in weekly data ending on Monday\n",
    "\n",
    "new_cases_high_pay.index = pd.to_datetime(new_cases_high_pay.index)\n",
    "new_cases_low_pay.index = pd.to_datetime(new_cases_low_pay.index)\n",
    "new_cases_small_pop.index = pd.to_datetime(new_cases_small_pop.index)\n",
    "new_cases_large_pop.index = pd.to_datetime(new_cases_large_pop.index)\n",
    "new_cases_male_to_female_high.index = pd.to_datetime(new_cases_male_to_female_high.index)\n",
    "new_cases_third_dose_high.index = pd.to_datetime(new_cases_third_dose_high.index)\n",
    "new_cases_third_dose_low.index = pd.to_datetime(new_cases_third_dose_low.index)\n",
    "new_cases_third_dose_young_high.index = pd.to_datetime(new_cases_third_dose_young_high.index)\n",
    "new_cases_third_dose_young_low.index = pd.to_datetime(new_cases_third_dose_young_low.index)\n",
    "new_cases_old_population_large.index = pd.to_datetime(new_cases_old_population_large.index)\n",
    "new_cases_old_population_small.index = pd.to_datetime(new_cases_old_population_small.index)\n",
    "\n",
    "new_cases_white_population_high.index = pd.to_datetime(new_cases_white_population_high.index)\n",
    "new_cases_white_population_low.index = pd.to_datetime(new_cases_white_population_high.index)\n",
    "\n",
    "\n",
    "weeklyCase_highPay = new_cases_high_pay.resample('W-Sat').sum().iloc[1:]\n",
    "weeklyCase_lowPay = new_cases_low_pay.resample('W-Sat').sum().iloc[1:]\n",
    "new_cases_small_pop = new_cases_small_pop.resample('W-Sat').sum().iloc[1:]\n",
    "new_cases_large_pop = new_cases_large_pop.resample('W-Sat').sum().iloc[1:]\n",
    "new_cases_male_to_female_high = new_cases_male_to_female_high.resample('W-Sat').sum().iloc[1:]\n",
    "new_cases_third_dose_high = new_cases_third_dose_high.resample('W-Sat').sum().iloc[1:]\n",
    "new_cases_third_dose_low = new_cases_third_dose_low.resample('W-Sat').sum().iloc[1:]\n",
    "new_cases_third_dose_young_high = new_cases_third_dose_young_high.resample('W-Sat').sum().iloc[1:]\n",
    "new_cases_third_dose__young_low = new_cases_third_dose_young_low.resample('W-Sat').sum().iloc[1:]\n",
    "new_cases_old_population_large = new_cases_old_population_large.resample('W-Sat').sum().iloc[1:]\n",
    "new_cases_old_population_small = new_cases_old_population_small.resample('W-Sat').sum().iloc[1:]\n",
    "\n",
    "new_cases_white_population_high = new_cases_white_population_high.resample('W-Sat').sum().iloc[1:]\n",
    "new_cases_white_population_low = new_cases_white_population_low.resample('W-Sat').sum().iloc[1:]\n",
    "\n",
    "new_cases_white_population_high"
   ]
  },
  {
   "cell_type": "code",
   "execution_count": 221,
   "id": "c3013ae3",
   "metadata": {},
   "outputs": [],
   "source": [
    "weeklyCase_highPay.index = weeklyCase_highPay.index.astype(str)\n",
    "weeklyCase_lowPay.index = weeklyCase_lowPay.index.astype(str)\n",
    "new_cases_small_pop.index = new_cases_small_pop.index.astype(str)\n",
    "new_cases_large_pop.index = new_cases_large_pop.index.astype(str)\n",
    "new_cases_male_to_female_high.index = new_cases_male_to_female_high.index.astype(str)\n",
    "new_cases_male_to_female_low.index = new_cases_male_to_female_low.index.astype(str)\n",
    "new_cases_third_dose_high.index = new_cases_third_dose_high.index.astype(str)\n",
    "new_cases_third_dose_low.index = new_cases_third_dose_high.index.astype(str)\n",
    "new_cases_third_dose_young_high.index = new_cases_third_dose_young_high.index.astype(str)\n",
    "new_cases_third_dose_young_low.index = new_cases_third_dose_young_low.index.astype(str)\n",
    "\n",
    "\n",
    "new_cases_old_population_large.index = new_cases_old_population_large.index.astype(str)\n",
    "new_cases_old_population_small.index = new_cases_old_population_small.index.astype(str)\n",
    "\n",
    "new_cases_white_population_high.index = new_cases_white_population_high.index.astype(str)\n",
    "new_cases_white_population_low.index = new_cases_white_population_high.index.astype(str)\n"
   ]
  },
  {
   "cell_type": "code",
   "execution_count": 222,
   "id": "2a438cda",
   "metadata": {},
   "outputs": [],
   "source": [
    "#renaming columns.\n",
    "\n",
    "weeklyCase_highPay = weeklyCase_highPay.rename(columns={'new_cases':'new_cases_high_pay'})\n",
    "weeklyCase_lowPay = weeklyCase_lowPay.rename(columns={'new_cases':'new_cases_low_pay'})\n",
    "new_cases_small_pop = new_cases_small_pop.rename(columns={'new_cases':'new_cases_small_pop'})\n",
    "new_cases_large_pop = new_cases_large_pop.rename(columns={'new_cases':'new_cases_large_pop'})\n",
    "new_cases_male_to_female_high = new_cases_male_to_female_high.rename(columns={'new_cases':'new_cases_male_to_female_high'})\n",
    "new_cases_male_to_female_low = new_cases_male_to_female_low.rename(columns={'new_cases':'new_cases_male_to_female_low'})\n",
    "new_cases_third_dose_high = new_cases_third_dose_high.rename(columns={'new_cases':'new_cases_third_dose_high'})\n",
    "new_cases_third_dose_low = new_cases_third_dose_low.rename(columns={'new_cases':'new_cases_third_dose_low'})\n",
    "\n",
    "new_cases_third_dose_young_high = new_cases_third_dose_young_high.rename(columns={'new_cases':'new_cases_third_dose_young_high'})\n",
    "new_cases_third_dose_young_low = new_cases_third_dose_young_low.rename(columns={'new_cases':'new_cases_third_dose_young_low'})\n",
    "\n",
    "\n",
    "new_cases_old_population_large = new_cases_old_population_large.rename(columns={'new_cases':'new_cases_old_to_rest_high'})\n",
    "new_cases_old_population_small = new_cases_old_population_small.rename(columns={'new_cases':'new_cases_old_to_rest_low'})\n",
    "\n",
    "new_cases_white_population_high = new_cases_white_population_high.rename(columns={'new_cases':'new_cases_white_population_high'})\n",
    "new_cases_white_population_low = new_cases_white_population_low.rename(columns={'new_cases':'new_cases_white_population_low'})"
   ]
  },
  {
   "cell_type": "code",
   "execution_count": 223,
   "id": "15c8037b",
   "metadata": {},
   "outputs": [
    {
     "data": {
      "text/html": [
       "<div>\n",
       "<style scoped>\n",
       "    .dataframe tbody tr th:only-of-type {\n",
       "        vertical-align: middle;\n",
       "    }\n",
       "\n",
       "    .dataframe tbody tr th {\n",
       "        vertical-align: top;\n",
       "    }\n",
       "\n",
       "    .dataframe thead th {\n",
       "        text-align: right;\n",
       "    }\n",
       "</style>\n",
       "<table border=\"1\" class=\"dataframe\">\n",
       "  <thead>\n",
       "    <tr style=\"text-align: right;\">\n",
       "      <th></th>\n",
       "      <th>date</th>\n",
       "      <th>weekly_admissions</th>\n",
       "    </tr>\n",
       "  </thead>\n",
       "  <tbody>\n",
       "    <tr>\n",
       "      <th>0</th>\n",
       "      <td>2020-03-21</td>\n",
       "      <td>537</td>\n",
       "    </tr>\n",
       "    <tr>\n",
       "      <th>1</th>\n",
       "      <td>2020-03-28</td>\n",
       "      <td>2759</td>\n",
       "    </tr>\n",
       "    <tr>\n",
       "      <th>2</th>\n",
       "      <td>2020-04-04</td>\n",
       "      <td>4535</td>\n",
       "    </tr>\n",
       "    <tr>\n",
       "      <th>3</th>\n",
       "      <td>2020-04-11</td>\n",
       "      <td>4516</td>\n",
       "    </tr>\n",
       "    <tr>\n",
       "      <th>4</th>\n",
       "      <td>2020-04-18</td>\n",
       "      <td>2687</td>\n",
       "    </tr>\n",
       "    <tr>\n",
       "      <th>...</th>\n",
       "      <td>...</td>\n",
       "      <td>...</td>\n",
       "    </tr>\n",
       "    <tr>\n",
       "      <th>94</th>\n",
       "      <td>2022-01-08</td>\n",
       "      <td>2410</td>\n",
       "    </tr>\n",
       "    <tr>\n",
       "      <th>95</th>\n",
       "      <td>2022-01-15</td>\n",
       "      <td>2065</td>\n",
       "    </tr>\n",
       "    <tr>\n",
       "      <th>96</th>\n",
       "      <td>2022-01-22</td>\n",
       "      <td>1742</td>\n",
       "    </tr>\n",
       "    <tr>\n",
       "      <th>97</th>\n",
       "      <td>2022-01-29</td>\n",
       "      <td>1449</td>\n",
       "    </tr>\n",
       "    <tr>\n",
       "      <th>98</th>\n",
       "      <td>2022-02-05</td>\n",
       "      <td>1305</td>\n",
       "    </tr>\n",
       "  </tbody>\n",
       "</table>\n",
       "<p>99 rows × 2 columns</p>\n",
       "</div>"
      ],
      "text/plain": [
       "          date  weekly_admissions\n",
       "0   2020-03-21                537\n",
       "1   2020-03-28               2759\n",
       "2   2020-04-04               4535\n",
       "3   2020-04-11               4516\n",
       "4   2020-04-18               2687\n",
       "..         ...                ...\n",
       "94  2022-01-08               2410\n",
       "95  2022-01-15               2065\n",
       "96  2022-01-22               1742\n",
       "97  2022-01-29               1449\n",
       "98  2022-02-05               1305\n",
       "\n",
       "[99 rows x 2 columns]"
      ]
     },
     "execution_count": 223,
     "metadata": {},
     "output_type": "execute_result"
    }
   ],
   "source": [
    "#monthly admission data\n",
    "monthlyAdmission = admission_df.drop(columns={'age_lower', 'age_higher', 'weekly_rate'}).reset_index(drop=False)\n",
    "monthlyAdmission"
   ]
  },
  {
   "cell_type": "code",
   "execution_count": 224,
   "id": "31322fe2",
   "metadata": {},
   "outputs": [],
   "source": [
    "#creating a new dataframe, merging it with monthly_admission dataframe for multi linear regression.\n",
    "\n",
    "combo = pd.merge(weeklyCase_highPay, weeklyCase_lowPay, on='date')\n",
    "# combo = pd.merge(combo, new_cases_small_pop, on='date')\n",
    "combo = pd.merge(combo, new_cases_large_pop, on='date')\n",
    "combo = pd.merge(combo, new_cases_male_to_female_high, on='date')\n",
    "combo = pd.merge(combo, new_cases_third_dose_high, on='date')\n",
    "combo = pd.merge(combo, new_cases_third_dose_low, on='date')\n",
    "combo = pd.merge(combo, new_cases_third_dose_young_high, on='date')\n",
    "combo = pd.merge(combo, new_cases_third_dose_young_low, on='date')\n",
    "combo = pd.merge(combo, new_cases_old_population_large, on='date')\n",
    "combo = pd.merge(combo, new_cases_old_population_small, on='date')\n",
    "combo = pd.merge(combo, new_cases_white_population_high, on='date')\n",
    "combo = pd.merge(combo, new_cases_white_population_low, on='date')\n",
    "\n",
    "combo = pd.merge(combo, monthlyAdmission, on='date')"
   ]
  },
  {
   "cell_type": "code",
   "execution_count": 225,
   "id": "61a544fe",
   "metadata": {},
   "outputs": [
    {
     "data": {
      "text/html": [
       "<div>\n",
       "<style scoped>\n",
       "    .dataframe tbody tr th:only-of-type {\n",
       "        vertical-align: middle;\n",
       "    }\n",
       "\n",
       "    .dataframe tbody tr th {\n",
       "        vertical-align: top;\n",
       "    }\n",
       "\n",
       "    .dataframe thead th {\n",
       "        text-align: right;\n",
       "    }\n",
       "</style>\n",
       "<table border=\"1\" class=\"dataframe\">\n",
       "  <thead>\n",
       "    <tr style=\"text-align: right;\">\n",
       "      <th></th>\n",
       "      <th>new_cases_high_pay</th>\n",
       "      <th>new_cases_low_pay</th>\n",
       "      <th>new_cases_large_pop</th>\n",
       "      <th>new_cases_male_to_female_high</th>\n",
       "      <th>new_cases_third_dose_high</th>\n",
       "      <th>new_cases_third_dose_low</th>\n",
       "      <th>new_cases_third_dose_young_high</th>\n",
       "      <th>new_cases_third_dose_young_low</th>\n",
       "      <th>new_cases_largeOldPopulation</th>\n",
       "      <th>new_cases_smallOldPopulation</th>\n",
       "      <th>new_cases_white_population_high</th>\n",
       "      <th>new_cases_white_population_low</th>\n",
       "      <th>weekly_admissions</th>\n",
       "    </tr>\n",
       "    <tr>\n",
       "      <th>date</th>\n",
       "      <th></th>\n",
       "      <th></th>\n",
       "      <th></th>\n",
       "      <th></th>\n",
       "      <th></th>\n",
       "      <th></th>\n",
       "      <th></th>\n",
       "      <th></th>\n",
       "      <th></th>\n",
       "      <th></th>\n",
       "      <th></th>\n",
       "      <th></th>\n",
       "      <th></th>\n",
       "    </tr>\n",
       "  </thead>\n",
       "  <tbody>\n",
       "    <tr>\n",
       "      <th>2020-03-28</th>\n",
       "      <td>1.118367</td>\n",
       "      <td>1.261603</td>\n",
       "      <td>1.181818</td>\n",
       "      <td>1.004854</td>\n",
       "      <td>1.253165</td>\n",
       "      <td>1.209302</td>\n",
       "      <td>1.062044</td>\n",
       "      <td>0.735294</td>\n",
       "      <td>1.531915</td>\n",
       "      <td>0.936709</td>\n",
       "      <td>1.215311</td>\n",
       "      <td>0.975904</td>\n",
       "      <td>4.137803</td>\n",
       "    </tr>\n",
       "    <tr>\n",
       "      <th>2020-04-04</th>\n",
       "      <td>0.175337</td>\n",
       "      <td>0.337687</td>\n",
       "      <td>0.266667</td>\n",
       "      <td>0.377724</td>\n",
       "      <td>0.230337</td>\n",
       "      <td>0.328947</td>\n",
       "      <td>0.185841</td>\n",
       "      <td>0.355932</td>\n",
       "      <td>0.258403</td>\n",
       "      <td>0.374728</td>\n",
       "      <td>0.336933</td>\n",
       "      <td>0.357724</td>\n",
       "      <td>0.643711</td>\n",
       "    </tr>\n",
       "    <tr>\n",
       "      <th>2020-04-11</th>\n",
       "      <td>-0.214754</td>\n",
       "      <td>-0.143654</td>\n",
       "      <td>-0.171053</td>\n",
       "      <td>-0.172232</td>\n",
       "      <td>-0.088280</td>\n",
       "      <td>-0.126733</td>\n",
       "      <td>-0.123881</td>\n",
       "      <td>-0.375000</td>\n",
       "      <td>-0.071786</td>\n",
       "      <td>-0.190174</td>\n",
       "      <td>-0.159935</td>\n",
       "      <td>-0.115269</td>\n",
       "      <td>-0.004190</td>\n",
       "    </tr>\n",
       "    <tr>\n",
       "      <th>2020-04-18</th>\n",
       "      <td>-0.286013</td>\n",
       "      <td>-0.133550</td>\n",
       "      <td>-0.274603</td>\n",
       "      <td>-0.309979</td>\n",
       "      <td>-0.096828</td>\n",
       "      <td>-0.294785</td>\n",
       "      <td>-0.218058</td>\n",
       "      <td>-0.340000</td>\n",
       "      <td>-0.163669</td>\n",
       "      <td>-0.379648</td>\n",
       "      <td>-0.192308</td>\n",
       "      <td>-0.252115</td>\n",
       "      <td>-0.405004</td>\n",
       "    </tr>\n",
       "    <tr>\n",
       "      <th>2020-04-25</th>\n",
       "      <td>-0.228070</td>\n",
       "      <td>-0.293233</td>\n",
       "      <td>-0.284464</td>\n",
       "      <td>-0.289231</td>\n",
       "      <td>-0.258780</td>\n",
       "      <td>-0.276527</td>\n",
       "      <td>-0.172113</td>\n",
       "      <td>-0.242424</td>\n",
       "      <td>-0.251613</td>\n",
       "      <td>-0.328076</td>\n",
       "      <td>-0.197619</td>\n",
       "      <td>-0.223982</td>\n",
       "      <td>-0.372907</td>\n",
       "    </tr>\n",
       "  </tbody>\n",
       "</table>\n",
       "</div>"
      ],
      "text/plain": [
       "            new_cases_high_pay  new_cases_low_pay  new_cases_large_pop  \\\n",
       "date                                                                     \n",
       "2020-03-28            1.118367           1.261603             1.181818   \n",
       "2020-04-04            0.175337           0.337687             0.266667   \n",
       "2020-04-11           -0.214754          -0.143654            -0.171053   \n",
       "2020-04-18           -0.286013          -0.133550            -0.274603   \n",
       "2020-04-25           -0.228070          -0.293233            -0.284464   \n",
       "\n",
       "            new_cases_male_to_female_high  new_cases_third_dose_high  \\\n",
       "date                                                                   \n",
       "2020-03-28                       1.004854                   1.253165   \n",
       "2020-04-04                       0.377724                   0.230337   \n",
       "2020-04-11                      -0.172232                  -0.088280   \n",
       "2020-04-18                      -0.309979                  -0.096828   \n",
       "2020-04-25                      -0.289231                  -0.258780   \n",
       "\n",
       "            new_cases_third_dose_low  new_cases_third_dose_young_high  \\\n",
       "date                                                                    \n",
       "2020-03-28                  1.209302                         1.062044   \n",
       "2020-04-04                  0.328947                         0.185841   \n",
       "2020-04-11                 -0.126733                        -0.123881   \n",
       "2020-04-18                 -0.294785                        -0.218058   \n",
       "2020-04-25                 -0.276527                        -0.172113   \n",
       "\n",
       "            new_cases_third_dose_young_low  new_cases_largeOldPopulation  \\\n",
       "date                                                                       \n",
       "2020-03-28                        0.735294                      1.531915   \n",
       "2020-04-04                        0.355932                      0.258403   \n",
       "2020-04-11                       -0.375000                     -0.071786   \n",
       "2020-04-18                       -0.340000                     -0.163669   \n",
       "2020-04-25                       -0.242424                     -0.251613   \n",
       "\n",
       "            new_cases_smallOldPopulation  new_cases_white_population_high  \\\n",
       "date                                                                        \n",
       "2020-03-28                      0.936709                         1.215311   \n",
       "2020-04-04                      0.374728                         0.336933   \n",
       "2020-04-11                     -0.190174                        -0.159935   \n",
       "2020-04-18                     -0.379648                        -0.192308   \n",
       "2020-04-25                     -0.328076                        -0.197619   \n",
       "\n",
       "            new_cases_white_population_low  weekly_admissions  \n",
       "date                                                           \n",
       "2020-03-28                        0.975904           4.137803  \n",
       "2020-04-04                        0.357724           0.643711  \n",
       "2020-04-11                       -0.115269          -0.004190  \n",
       "2020-04-18                       -0.252115          -0.405004  \n",
       "2020-04-25                       -0.223982          -0.372907  "
      ]
     },
     "execution_count": 225,
     "metadata": {},
     "output_type": "execute_result"
    }
   ],
   "source": [
    "#For regression, we will look at the weekly cases in each boorugh change in percentage and whether it has an effect\n",
    "#on percentage change in weekly hospital admissions.\n",
    "\n",
    "combo.set_index('date', inplace=True)\n",
    "combo = combo.pct_change().iloc[1:]\n",
    "combo.head()"
   ]
  },
  {
   "cell_type": "code",
   "execution_count": 226,
   "id": "54f26d48",
   "metadata": {},
   "outputs": [],
   "source": [
    "x = combo.drop(['weekly_admissions'],axis=1)\n",
    "y = combo['weekly_admissions']"
   ]
  },
  {
   "cell_type": "code",
   "execution_count": 227,
   "id": "a5051f31",
   "metadata": {},
   "outputs": [
    {
     "name": "stdout",
     "output_type": "stream",
     "text": [
      "                            OLS Regression Results                            \n",
      "==============================================================================\n",
      "Dep. Variable:      weekly_admissions   R-squared:                       0.557\n",
      "Model:                            OLS   Adj. R-squared:                  0.495\n",
      "Method:                 Least Squares   F-statistic:                     8.923\n",
      "Date:                Fri, 25 Feb 2022   Prob (F-statistic):           8.59e-11\n",
      "Time:                        15:51:56   Log-Likelihood:                -32.857\n",
      "No. Observations:                  98   AIC:                             91.71\n",
      "Df Residuals:                      85   BIC:                             125.3\n",
      "Df Model:                          12                                         \n",
      "Covariance Type:            nonrobust                                         \n",
      "===================================================================================================\n",
      "                                      coef    std err          t      P>|t|      [0.025      0.975]\n",
      "---------------------------------------------------------------------------------------------------\n",
      "const                              -0.0052      0.038     -0.137      0.891      -0.081       0.071\n",
      "new_cases_high_pay                 -0.0217      0.590     -0.037      0.971      -1.194       1.151\n",
      "new_cases_low_pay                   2.2277      0.773      2.880      0.005       0.690       3.765\n",
      "new_cases_large_pop                 0.7386      0.838      0.882      0.380      -0.927       2.404\n",
      "new_cases_male_to_female_high       1.0339      0.711      1.455      0.149      -0.379       2.447\n",
      "new_cases_third_dose_high          -0.6000      0.877     -0.684      0.496      -2.344       1.144\n",
      "new_cases_third_dose_low            0.6441      0.457      1.410      0.162      -0.264       1.552\n",
      "new_cases_third_dose_young_high    -1.5635      0.678     -2.307      0.023      -2.911      -0.216\n",
      "new_cases_third_dose_young_low     -0.1562      0.144     -1.084      0.281      -0.443       0.130\n",
      "new_cases_largeOldPopulation        1.7247      0.499      3.459      0.001       0.733       2.716\n",
      "new_cases_smallOldPopulation       -1.1967      0.512     -2.340      0.022      -2.214      -0.180\n",
      "new_cases_white_population_high    -0.3415      0.826     -0.414      0.680      -1.983       1.300\n",
      "new_cases_white_population_low     -1.6236      0.854     -1.902      0.061      -3.321       0.074\n",
      "==============================================================================\n",
      "Omnibus:                       38.911   Durbin-Watson:                   1.784\n",
      "Prob(Omnibus):                  0.000   Jarque-Bera (JB):              167.291\n",
      "Skew:                           1.179   Prob(JB):                     4.71e-37\n",
      "Kurtosis:                       8.950   Cond. No.                         44.8\n",
      "==============================================================================\n",
      "\n",
      "Notes:\n",
      "[1] Standard Errors assume that the covariance matrix of the errors is correctly specified.\n"
     ]
    }
   ],
   "source": [
    "# with statsmodels\n",
    "x = sm.add_constant(x) # adding a constant\n",
    " \n",
    "model = sm.OLS(y, x).fit()\n",
    "predictions = model.predict(x) \n",
    " \n",
    "print_model = model.summary()\n",
    "print(print_model)"
   ]
  },
  {
   "cell_type": "code",
   "execution_count": null,
   "id": "dd4e92f7",
   "metadata": {},
   "outputs": [],
   "source": []
  },
  {
   "cell_type": "code",
   "execution_count": 228,
   "id": "4f26f6bd",
   "metadata": {},
   "outputs": [
    {
     "data": {
      "application/vnd.plotly.v1+json": {
       "config": {
        "plotlyServerURL": "https://plot.ly"
       },
       "data": [
        {
         "hovertemplate": "variable=weekly_admissions<br>date=%{x}<br>value=%{y}<extra></extra>",
         "legendgroup": "weekly_admissions",
         "line": {
          "color": "#636efa",
          "dash": "solid"
         },
         "marker": {
          "symbol": "circle"
         },
         "mode": "lines",
         "name": "weekly_admissions",
         "orientation": "v",
         "showlegend": true,
         "type": "scatter",
         "x": [
          "2020-03-28",
          "2020-04-04",
          "2020-04-11",
          "2020-04-18",
          "2020-04-25",
          "2020-05-02",
          "2020-05-09",
          "2020-05-16",
          "2020-05-23",
          "2020-05-30",
          "2020-06-06",
          "2020-06-13",
          "2020-06-20",
          "2020-06-27",
          "2020-07-04",
          "2020-07-11",
          "2020-07-18",
          "2020-07-25",
          "2020-08-01",
          "2020-08-08",
          "2020-08-15",
          "2020-08-22",
          "2020-08-29",
          "2020-09-05",
          "2020-09-12",
          "2020-09-19",
          "2020-09-26",
          "2020-10-03",
          "2020-10-10",
          "2020-10-17",
          "2020-10-24",
          "2020-10-31",
          "2020-11-07",
          "2020-11-14",
          "2020-11-21",
          "2020-11-28",
          "2020-12-05",
          "2020-12-12",
          "2020-12-19",
          "2020-12-26",
          "2021-01-02",
          "2021-01-09",
          "2021-01-16",
          "2021-01-23",
          "2021-01-30",
          "2021-02-06",
          "2021-02-13",
          "2021-02-20",
          "2021-02-27",
          "2021-03-06",
          "2021-03-13",
          "2021-03-20",
          "2021-03-27",
          "2021-04-03",
          "2021-04-10",
          "2021-04-17",
          "2021-04-24",
          "2021-05-01",
          "2021-05-08",
          "2021-05-15",
          "2021-05-22",
          "2021-05-29",
          "2021-06-05",
          "2021-06-12",
          "2021-06-19",
          "2021-06-26",
          "2021-07-03",
          "2021-07-10",
          "2021-07-17",
          "2021-07-24",
          "2021-07-31",
          "2021-08-07",
          "2021-08-14",
          "2021-08-21",
          "2021-08-28",
          "2021-09-04",
          "2021-09-11",
          "2021-09-18",
          "2021-09-25",
          "2021-10-02",
          "2021-10-09",
          "2021-10-16",
          "2021-10-23",
          "2021-10-30",
          "2021-11-06",
          "2021-11-13",
          "2021-11-20",
          "2021-11-27",
          "2021-12-04",
          "2021-12-11",
          "2021-12-18",
          "2021-12-25",
          "2022-01-01",
          "2022-01-08",
          "2022-01-15",
          "2022-01-22",
          "2022-01-29",
          "2022-02-05"
         ],
         "xaxis": "x",
         "y": [
          4.13780260707635,
          0.6437114896701703,
          -0.004189636163175359,
          -0.4050044286979628,
          -0.3729065872720506,
          -0.1454005934718101,
          -0.23402777777777772,
          -0.47869446962828655,
          -0.16347826086956518,
          -0.2432432432432432,
          -0.0027472527472527375,
          -0.22038567493112948,
          0.05653710247349819,
          0.07023411371237454,
          -0.43125,
          -0.016483516483516536,
          -0.3184357541899442,
          -0.3688524590163934,
          -0.36363636363636365,
          -0.08163265306122447,
          0.3999999999999999,
          -0.4285714285714286,
          0.38888888888888884,
          0.56,
          0.2435897435897436,
          1.1237113402061856,
          0.2815533980582525,
          -0.07954545454545459,
          0.2674897119341564,
          0.6136363636363635,
          0.4668008048289738,
          0.2208504801097393,
          -0.08089887640449434,
          0.21515892420537908,
          0.11569416498993967,
          -0.09017132551848517,
          0.07928642220019833,
          0.4674012855831038,
          0.4330413016270338,
          0.5781659388646287,
          0.40011068068622024,
          0.19486166007905137,
          -0.10701290109163086,
          -0.1746619744397111,
          -0.27176840215439857,
          -0.2671802773497689,
          -0.30782169890664424,
          -0.33596597812879714,
          -0.3504117108874657,
          -0.22957746478873242,
          -0.3290676416819013,
          -0.29427792915531337,
          -0.20077220077220082,
          -0.07729468599033817,
          -0.12565445026178013,
          -0.20958083832335328,
          -0.09848484848484851,
          -0.134453781512605,
          -0.19417475728155342,
          0.20481927710843384,
          0.1399999999999999,
          0.03508771929824572,
          0.1694915254237288,
          0.3115942028985508,
          0.19889502762430933,
          -0.12903225806451613,
          0.4550264550264551,
          0.5781818181818181,
          0.39170506912442393,
          0.3990066225165563,
          0.07573964497041419,
          -0.11771177117711773,
          0.0037406483790523026,
          0.06335403726708067,
          0.08411214953271018,
          -0.09375,
          -0.026159334126040434,
          -0.23687423687423692,
          -0.057599999999999985,
          -0.10016977928692694,
          -0.013207547169811318,
          0.1988527724665392,
          0.08293460925039864,
          -0.02945508100147276,
          -0.02124430955993928,
          0.0620155038759691,
          -0.016058394160583966,
          -0.053412462908011826,
          0.1849529780564263,
          0.29761904761904767,
          0.37512742099898055,
          0.6834692364714603,
          0.2597974460590049,
          -0.1576371897937784,
          -0.1431535269709544,
          -0.1564164648910411,
          -0.16819747416762343,
          -0.0993788819875776
         ],
         "yaxis": "y"
        },
        {
         "hovertemplate": "variable=new_cases_low_pay<br>date=%{x}<br>value=%{y}<extra></extra>",
         "legendgroup": "new_cases_low_pay",
         "line": {
          "color": "#EF553B",
          "dash": "solid"
         },
         "marker": {
          "symbol": "circle"
         },
         "mode": "lines",
         "name": "new_cases_low_pay",
         "orientation": "v",
         "showlegend": true,
         "type": "scatter",
         "x": [
          "2020-03-28",
          "2020-04-04",
          "2020-04-11",
          "2020-04-18",
          "2020-04-25",
          "2020-05-02",
          "2020-05-09",
          "2020-05-16",
          "2020-05-23",
          "2020-05-30",
          "2020-06-06",
          "2020-06-13",
          "2020-06-20",
          "2020-06-27",
          "2020-07-04",
          "2020-07-11",
          "2020-07-18",
          "2020-07-25",
          "2020-08-01",
          "2020-08-08",
          "2020-08-15",
          "2020-08-22",
          "2020-08-29",
          "2020-09-05",
          "2020-09-12",
          "2020-09-19",
          "2020-09-26",
          "2020-10-03",
          "2020-10-10",
          "2020-10-17",
          "2020-10-24",
          "2020-10-31",
          "2020-11-07",
          "2020-11-14",
          "2020-11-21",
          "2020-11-28",
          "2020-12-05",
          "2020-12-12",
          "2020-12-19",
          "2020-12-26",
          "2021-01-02",
          "2021-01-09",
          "2021-01-16",
          "2021-01-23",
          "2021-01-30",
          "2021-02-06",
          "2021-02-13",
          "2021-02-20",
          "2021-02-27",
          "2021-03-06",
          "2021-03-13",
          "2021-03-20",
          "2021-03-27",
          "2021-04-03",
          "2021-04-10",
          "2021-04-17",
          "2021-04-24",
          "2021-05-01",
          "2021-05-08",
          "2021-05-15",
          "2021-05-22",
          "2021-05-29",
          "2021-06-05",
          "2021-06-12",
          "2021-06-19",
          "2021-06-26",
          "2021-07-03",
          "2021-07-10",
          "2021-07-17",
          "2021-07-24",
          "2021-07-31",
          "2021-08-07",
          "2021-08-14",
          "2021-08-21",
          "2021-08-28",
          "2021-09-04",
          "2021-09-11",
          "2021-09-18",
          "2021-09-25",
          "2021-10-02",
          "2021-10-09",
          "2021-10-16",
          "2021-10-23",
          "2021-10-30",
          "2021-11-06",
          "2021-11-13",
          "2021-11-20",
          "2021-11-27",
          "2021-12-04",
          "2021-12-11",
          "2021-12-18",
          "2021-12-25",
          "2022-01-01",
          "2022-01-08",
          "2022-01-15",
          "2022-01-22",
          "2022-01-29",
          "2022-02-05"
         ],
         "xaxis": "x",
         "y": [
          1.261603375527426,
          0.3376865671641791,
          -0.14365411436541142,
          -0.13355048859934848,
          -0.29323308270676696,
          -0.12765957446808507,
          -0.46036585365853655,
          -0.27118644067796616,
          -0.1705426356589147,
          -0.485981308411215,
          -0.09090909090909094,
          0,
          -0.43999999999999995,
          0.75,
          -0.18367346938775508,
          -0.25,
          0.5333333333333334,
          0.23913043478260865,
          0.1929824561403508,
          0.1470588235294117,
          0.3846153846153846,
          0.18518518518518512,
          -0.046875,
          0.7950819672131149,
          0.26940639269406397,
          -0.16546762589928055,
          1.0387931034482758,
          0.33826638477801274,
          0.5165876777251184,
          0.1791666666666667,
          0.4090106007067138,
          -0.03887147335423202,
          0.1611219830397912,
          0.21235955056179767,
          -0.07831325301204817,
          -0.11764705882352944,
          0.1698005698005698,
          0.6551388212372138,
          0.9617422012948793,
          0.3126312631263126,
          0.3524571428571428,
          -0.014027378739225993,
          -0.28325334247514566,
          -0.2960660050221212,
          -0.37455410225921526,
          -0.3177620858229223,
          -0.4263535031847133,
          -0.23108952116585701,
          -0.3023465703971119,
          -0.3078913324708926,
          -0.07289719626168223,
          -0.092741935483871,
          -0.01777777777777778,
          -0.2624434389140271,
          -0.07055214723926384,
          -0.06930693069306926,
          0.0957446808510638,
          -0.21682847896440127,
          -0.016528925619834656,
          0.11764705882352944,
          0.11278195488721798,
          0.16554054054054057,
          0.2927536231884058,
          0.3677130044843049,
          0.16065573770491803,
          0.5254237288135593,
          0.6574074074074074,
          0.3469273743016761,
          0.6117793446702613,
          -0.14539372104992276,
          -0.21830773863294184,
          0.1097842835130971,
          -0.01561957653592505,
          -0.031382228490832165,
          -0.014925373134328401,
          -0.012195121951219523,
          -0.05873550317994758,
          -0.19952305246422897,
          0.14001986097318775,
          -0.020905923344947785,
          0.10186832740213525,
          0.17723052079127988,
          0.19821673525377226,
          -0.1525472238122496,
          -0.09658899020601153,
          0.10130841121495338,
          0.11099796334012213,
          0.14695997555759233,
          0.2189664358018113,
          0.402534965034965,
          1.3466812090994078,
          0.28371290086979606,
          0.07701458570394126,
          -0.09422273447630025,
          -0.43534277079688244,
          -0.03032863849765255,
          -0.06420063910138474,
          -0.23675496688741726
         ],
         "yaxis": "y"
        },
        {
         "hovertemplate": "variable=new_cases_largeOldPopulation<br>date=%{x}<br>value=%{y}<extra></extra>",
         "legendgroup": "new_cases_largeOldPopulation",
         "line": {
          "color": "#00cc96",
          "dash": "solid"
         },
         "marker": {
          "symbol": "circle"
         },
         "mode": "lines",
         "name": "new_cases_largeOldPopulation",
         "orientation": "v",
         "showlegend": true,
         "type": "scatter",
         "x": [
          "2020-03-28",
          "2020-04-04",
          "2020-04-11",
          "2020-04-18",
          "2020-04-25",
          "2020-05-02",
          "2020-05-09",
          "2020-05-16",
          "2020-05-23",
          "2020-05-30",
          "2020-06-06",
          "2020-06-13",
          "2020-06-20",
          "2020-06-27",
          "2020-07-04",
          "2020-07-11",
          "2020-07-18",
          "2020-07-25",
          "2020-08-01",
          "2020-08-08",
          "2020-08-15",
          "2020-08-22",
          "2020-08-29",
          "2020-09-05",
          "2020-09-12",
          "2020-09-19",
          "2020-09-26",
          "2020-10-03",
          "2020-10-10",
          "2020-10-17",
          "2020-10-24",
          "2020-10-31",
          "2020-11-07",
          "2020-11-14",
          "2020-11-21",
          "2020-11-28",
          "2020-12-05",
          "2020-12-12",
          "2020-12-19",
          "2020-12-26",
          "2021-01-02",
          "2021-01-09",
          "2021-01-16",
          "2021-01-23",
          "2021-01-30",
          "2021-02-06",
          "2021-02-13",
          "2021-02-20",
          "2021-02-27",
          "2021-03-06",
          "2021-03-13",
          "2021-03-20",
          "2021-03-27",
          "2021-04-03",
          "2021-04-10",
          "2021-04-17",
          "2021-04-24",
          "2021-05-01",
          "2021-05-08",
          "2021-05-15",
          "2021-05-22",
          "2021-05-29",
          "2021-06-05",
          "2021-06-12",
          "2021-06-19",
          "2021-06-26",
          "2021-07-03",
          "2021-07-10",
          "2021-07-17",
          "2021-07-24",
          "2021-07-31",
          "2021-08-07",
          "2021-08-14",
          "2021-08-21",
          "2021-08-28",
          "2021-09-04",
          "2021-09-11",
          "2021-09-18",
          "2021-09-25",
          "2021-10-02",
          "2021-10-09",
          "2021-10-16",
          "2021-10-23",
          "2021-10-30",
          "2021-11-06",
          "2021-11-13",
          "2021-11-20",
          "2021-11-27",
          "2021-12-04",
          "2021-12-11",
          "2021-12-18",
          "2021-12-25",
          "2022-01-01",
          "2022-01-08",
          "2022-01-15",
          "2022-01-22",
          "2022-01-29",
          "2022-02-05"
         ],
         "xaxis": "x",
         "y": [
          1.5319148936170213,
          0.2584033613445378,
          -0.07178631051752926,
          -0.16366906474820142,
          -0.25161290322580643,
          -0.08620689655172409,
          -0.39622641509433965,
          -0.328125,
          -0.2093023255813954,
          -0.4117647058823529,
          -0.3833333333333333,
          0.16216216216216206,
          -0.4651162790697675,
          0,
          0.13043478260869557,
          0.1923076923076923,
          0.09677419354838701,
          0.6764705882352942,
          -0.08771929824561409,
          0.09615384615384626,
          0.7017543859649122,
          0.05154639175257736,
          0.4019607843137254,
          0.39160839160839167,
          0.03015075376884413,
          -0.14634146341463417,
          0.7257142857142858,
          0.7880794701986755,
          0.45925925925925926,
          0.21446700507614214,
          0.4263322884012539,
          -0.07326007326007322,
          0.11857707509881421,
          0.34134275618374565,
          -0.17228661749209695,
          -0.07574793125397838,
          0.278236914600551,
          0.6724137931034482,
          0.9739046391752577,
          0.21315488819977157,
          0.2240010762814475,
          -0.13992086172785223,
          -0.34121405750798717,
          -0.26265761396702236,
          -0.34411996842936066,
          -0.3156839149618933,
          -0.4273153575615475,
          -0.24564994882292734,
          -0.3120759837177748,
          -0.30177514792899407,
          0.011299435028248483,
          -0.15642458100558654,
          0.13576158940397343,
          -0.1574344023323615,
          -0.22491349480968859,
          -0.0982142857142857,
          0.04950495049504955,
          -0.15094339622641506,
          -0.12777777777777777,
          0.1146496815286624,
          0.02285714285714291,
          0.6145251396648044,
          0.25951557093425603,
          0.3873626373626373,
          0.25742574257425743,
          0.6299212598425197,
          0.6357487922705314,
          0.37743650324867106,
          0.7632933104631219,
          -0.2356517509727627,
          -0.25707922367165126,
          0.03297644539614564,
          -0.024461028192371503,
          0.005949851253718608,
          -0.031263202365863996,
          0.04012211077191452,
          -0.09224318658280928,
          -0.14965357967667436,
          0.20695274307441602,
          0.005400540054005365,
          0.06982990152193369,
          0.23723849372384942,
          0.2367264119039567,
          -0.14656822532130165,
          -0.18519705222685034,
          0.25914274478961863,
          0.12866958151155528,
          0.16297731045932484,
          0.19295741137282896,
          0.2576785001994415,
          1.4333967649857278,
          0.17478005865102642,
          -0.012592222776945716,
          -0.15533707865168545,
          -0.4144329896907216,
          0.099273057701045,
          -0.024488530688158705,
          -0.2159728842283657
         ],
         "yaxis": "y"
        }
       ],
       "layout": {
        "font": {
         "color": "RebeccaPurple",
         "family": "Courier New, monospace",
         "size": 15
        },
        "legend": {
         "title": {
          "text": "Cluster Groups"
         },
         "tracegroupgap": 0
        },
        "margin": {
         "t": 60
        },
        "template": {
         "data": {
          "bar": [
           {
            "error_x": {
             "color": "#2a3f5f"
            },
            "error_y": {
             "color": "#2a3f5f"
            },
            "marker": {
             "line": {
              "color": "#E5ECF6",
              "width": 0.5
             },
             "pattern": {
              "fillmode": "overlay",
              "size": 10,
              "solidity": 0.2
             }
            },
            "type": "bar"
           }
          ],
          "barpolar": [
           {
            "marker": {
             "line": {
              "color": "#E5ECF6",
              "width": 0.5
             },
             "pattern": {
              "fillmode": "overlay",
              "size": 10,
              "solidity": 0.2
             }
            },
            "type": "barpolar"
           }
          ],
          "carpet": [
           {
            "aaxis": {
             "endlinecolor": "#2a3f5f",
             "gridcolor": "white",
             "linecolor": "white",
             "minorgridcolor": "white",
             "startlinecolor": "#2a3f5f"
            },
            "baxis": {
             "endlinecolor": "#2a3f5f",
             "gridcolor": "white",
             "linecolor": "white",
             "minorgridcolor": "white",
             "startlinecolor": "#2a3f5f"
            },
            "type": "carpet"
           }
          ],
          "choropleth": [
           {
            "colorbar": {
             "outlinewidth": 0,
             "ticks": ""
            },
            "type": "choropleth"
           }
          ],
          "contour": [
           {
            "colorbar": {
             "outlinewidth": 0,
             "ticks": ""
            },
            "colorscale": [
             [
              0,
              "#0d0887"
             ],
             [
              0.1111111111111111,
              "#46039f"
             ],
             [
              0.2222222222222222,
              "#7201a8"
             ],
             [
              0.3333333333333333,
              "#9c179e"
             ],
             [
              0.4444444444444444,
              "#bd3786"
             ],
             [
              0.5555555555555556,
              "#d8576b"
             ],
             [
              0.6666666666666666,
              "#ed7953"
             ],
             [
              0.7777777777777778,
              "#fb9f3a"
             ],
             [
              0.8888888888888888,
              "#fdca26"
             ],
             [
              1,
              "#f0f921"
             ]
            ],
            "type": "contour"
           }
          ],
          "contourcarpet": [
           {
            "colorbar": {
             "outlinewidth": 0,
             "ticks": ""
            },
            "type": "contourcarpet"
           }
          ],
          "heatmap": [
           {
            "colorbar": {
             "outlinewidth": 0,
             "ticks": ""
            },
            "colorscale": [
             [
              0,
              "#0d0887"
             ],
             [
              0.1111111111111111,
              "#46039f"
             ],
             [
              0.2222222222222222,
              "#7201a8"
             ],
             [
              0.3333333333333333,
              "#9c179e"
             ],
             [
              0.4444444444444444,
              "#bd3786"
             ],
             [
              0.5555555555555556,
              "#d8576b"
             ],
             [
              0.6666666666666666,
              "#ed7953"
             ],
             [
              0.7777777777777778,
              "#fb9f3a"
             ],
             [
              0.8888888888888888,
              "#fdca26"
             ],
             [
              1,
              "#f0f921"
             ]
            ],
            "type": "heatmap"
           }
          ],
          "heatmapgl": [
           {
            "colorbar": {
             "outlinewidth": 0,
             "ticks": ""
            },
            "colorscale": [
             [
              0,
              "#0d0887"
             ],
             [
              0.1111111111111111,
              "#46039f"
             ],
             [
              0.2222222222222222,
              "#7201a8"
             ],
             [
              0.3333333333333333,
              "#9c179e"
             ],
             [
              0.4444444444444444,
              "#bd3786"
             ],
             [
              0.5555555555555556,
              "#d8576b"
             ],
             [
              0.6666666666666666,
              "#ed7953"
             ],
             [
              0.7777777777777778,
              "#fb9f3a"
             ],
             [
              0.8888888888888888,
              "#fdca26"
             ],
             [
              1,
              "#f0f921"
             ]
            ],
            "type": "heatmapgl"
           }
          ],
          "histogram": [
           {
            "marker": {
             "pattern": {
              "fillmode": "overlay",
              "size": 10,
              "solidity": 0.2
             }
            },
            "type": "histogram"
           }
          ],
          "histogram2d": [
           {
            "colorbar": {
             "outlinewidth": 0,
             "ticks": ""
            },
            "colorscale": [
             [
              0,
              "#0d0887"
             ],
             [
              0.1111111111111111,
              "#46039f"
             ],
             [
              0.2222222222222222,
              "#7201a8"
             ],
             [
              0.3333333333333333,
              "#9c179e"
             ],
             [
              0.4444444444444444,
              "#bd3786"
             ],
             [
              0.5555555555555556,
              "#d8576b"
             ],
             [
              0.6666666666666666,
              "#ed7953"
             ],
             [
              0.7777777777777778,
              "#fb9f3a"
             ],
             [
              0.8888888888888888,
              "#fdca26"
             ],
             [
              1,
              "#f0f921"
             ]
            ],
            "type": "histogram2d"
           }
          ],
          "histogram2dcontour": [
           {
            "colorbar": {
             "outlinewidth": 0,
             "ticks": ""
            },
            "colorscale": [
             [
              0,
              "#0d0887"
             ],
             [
              0.1111111111111111,
              "#46039f"
             ],
             [
              0.2222222222222222,
              "#7201a8"
             ],
             [
              0.3333333333333333,
              "#9c179e"
             ],
             [
              0.4444444444444444,
              "#bd3786"
             ],
             [
              0.5555555555555556,
              "#d8576b"
             ],
             [
              0.6666666666666666,
              "#ed7953"
             ],
             [
              0.7777777777777778,
              "#fb9f3a"
             ],
             [
              0.8888888888888888,
              "#fdca26"
             ],
             [
              1,
              "#f0f921"
             ]
            ],
            "type": "histogram2dcontour"
           }
          ],
          "mesh3d": [
           {
            "colorbar": {
             "outlinewidth": 0,
             "ticks": ""
            },
            "type": "mesh3d"
           }
          ],
          "parcoords": [
           {
            "line": {
             "colorbar": {
              "outlinewidth": 0,
              "ticks": ""
             }
            },
            "type": "parcoords"
           }
          ],
          "pie": [
           {
            "automargin": true,
            "type": "pie"
           }
          ],
          "scatter": [
           {
            "marker": {
             "colorbar": {
              "outlinewidth": 0,
              "ticks": ""
             }
            },
            "type": "scatter"
           }
          ],
          "scatter3d": [
           {
            "line": {
             "colorbar": {
              "outlinewidth": 0,
              "ticks": ""
             }
            },
            "marker": {
             "colorbar": {
              "outlinewidth": 0,
              "ticks": ""
             }
            },
            "type": "scatter3d"
           }
          ],
          "scattercarpet": [
           {
            "marker": {
             "colorbar": {
              "outlinewidth": 0,
              "ticks": ""
             }
            },
            "type": "scattercarpet"
           }
          ],
          "scattergeo": [
           {
            "marker": {
             "colorbar": {
              "outlinewidth": 0,
              "ticks": ""
             }
            },
            "type": "scattergeo"
           }
          ],
          "scattergl": [
           {
            "marker": {
             "colorbar": {
              "outlinewidth": 0,
              "ticks": ""
             }
            },
            "type": "scattergl"
           }
          ],
          "scattermapbox": [
           {
            "marker": {
             "colorbar": {
              "outlinewidth": 0,
              "ticks": ""
             }
            },
            "type": "scattermapbox"
           }
          ],
          "scatterpolar": [
           {
            "marker": {
             "colorbar": {
              "outlinewidth": 0,
              "ticks": ""
             }
            },
            "type": "scatterpolar"
           }
          ],
          "scatterpolargl": [
           {
            "marker": {
             "colorbar": {
              "outlinewidth": 0,
              "ticks": ""
             }
            },
            "type": "scatterpolargl"
           }
          ],
          "scatterternary": [
           {
            "marker": {
             "colorbar": {
              "outlinewidth": 0,
              "ticks": ""
             }
            },
            "type": "scatterternary"
           }
          ],
          "surface": [
           {
            "colorbar": {
             "outlinewidth": 0,
             "ticks": ""
            },
            "colorscale": [
             [
              0,
              "#0d0887"
             ],
             [
              0.1111111111111111,
              "#46039f"
             ],
             [
              0.2222222222222222,
              "#7201a8"
             ],
             [
              0.3333333333333333,
              "#9c179e"
             ],
             [
              0.4444444444444444,
              "#bd3786"
             ],
             [
              0.5555555555555556,
              "#d8576b"
             ],
             [
              0.6666666666666666,
              "#ed7953"
             ],
             [
              0.7777777777777778,
              "#fb9f3a"
             ],
             [
              0.8888888888888888,
              "#fdca26"
             ],
             [
              1,
              "#f0f921"
             ]
            ],
            "type": "surface"
           }
          ],
          "table": [
           {
            "cells": {
             "fill": {
              "color": "#EBF0F8"
             },
             "line": {
              "color": "white"
             }
            },
            "header": {
             "fill": {
              "color": "#C8D4E3"
             },
             "line": {
              "color": "white"
             }
            },
            "type": "table"
           }
          ]
         },
         "layout": {
          "annotationdefaults": {
           "arrowcolor": "#2a3f5f",
           "arrowhead": 0,
           "arrowwidth": 1
          },
          "autotypenumbers": "strict",
          "coloraxis": {
           "colorbar": {
            "outlinewidth": 0,
            "ticks": ""
           }
          },
          "colorscale": {
           "diverging": [
            [
             0,
             "#8e0152"
            ],
            [
             0.1,
             "#c51b7d"
            ],
            [
             0.2,
             "#de77ae"
            ],
            [
             0.3,
             "#f1b6da"
            ],
            [
             0.4,
             "#fde0ef"
            ],
            [
             0.5,
             "#f7f7f7"
            ],
            [
             0.6,
             "#e6f5d0"
            ],
            [
             0.7,
             "#b8e186"
            ],
            [
             0.8,
             "#7fbc41"
            ],
            [
             0.9,
             "#4d9221"
            ],
            [
             1,
             "#276419"
            ]
           ],
           "sequential": [
            [
             0,
             "#0d0887"
            ],
            [
             0.1111111111111111,
             "#46039f"
            ],
            [
             0.2222222222222222,
             "#7201a8"
            ],
            [
             0.3333333333333333,
             "#9c179e"
            ],
            [
             0.4444444444444444,
             "#bd3786"
            ],
            [
             0.5555555555555556,
             "#d8576b"
            ],
            [
             0.6666666666666666,
             "#ed7953"
            ],
            [
             0.7777777777777778,
             "#fb9f3a"
            ],
            [
             0.8888888888888888,
             "#fdca26"
            ],
            [
             1,
             "#f0f921"
            ]
           ],
           "sequentialminus": [
            [
             0,
             "#0d0887"
            ],
            [
             0.1111111111111111,
             "#46039f"
            ],
            [
             0.2222222222222222,
             "#7201a8"
            ],
            [
             0.3333333333333333,
             "#9c179e"
            ],
            [
             0.4444444444444444,
             "#bd3786"
            ],
            [
             0.5555555555555556,
             "#d8576b"
            ],
            [
             0.6666666666666666,
             "#ed7953"
            ],
            [
             0.7777777777777778,
             "#fb9f3a"
            ],
            [
             0.8888888888888888,
             "#fdca26"
            ],
            [
             1,
             "#f0f921"
            ]
           ]
          },
          "colorway": [
           "#636efa",
           "#EF553B",
           "#00cc96",
           "#ab63fa",
           "#FFA15A",
           "#19d3f3",
           "#FF6692",
           "#B6E880",
           "#FF97FF",
           "#FECB52"
          ],
          "font": {
           "color": "#2a3f5f"
          },
          "geo": {
           "bgcolor": "white",
           "lakecolor": "white",
           "landcolor": "#E5ECF6",
           "showlakes": true,
           "showland": true,
           "subunitcolor": "white"
          },
          "hoverlabel": {
           "align": "left"
          },
          "hovermode": "closest",
          "mapbox": {
           "style": "light"
          },
          "paper_bgcolor": "white",
          "plot_bgcolor": "#E5ECF6",
          "polar": {
           "angularaxis": {
            "gridcolor": "white",
            "linecolor": "white",
            "ticks": ""
           },
           "bgcolor": "#E5ECF6",
           "radialaxis": {
            "gridcolor": "white",
            "linecolor": "white",
            "ticks": ""
           }
          },
          "scene": {
           "xaxis": {
            "backgroundcolor": "#E5ECF6",
            "gridcolor": "white",
            "gridwidth": 2,
            "linecolor": "white",
            "showbackground": true,
            "ticks": "",
            "zerolinecolor": "white"
           },
           "yaxis": {
            "backgroundcolor": "#E5ECF6",
            "gridcolor": "white",
            "gridwidth": 2,
            "linecolor": "white",
            "showbackground": true,
            "ticks": "",
            "zerolinecolor": "white"
           },
           "zaxis": {
            "backgroundcolor": "#E5ECF6",
            "gridcolor": "white",
            "gridwidth": 2,
            "linecolor": "white",
            "showbackground": true,
            "ticks": "",
            "zerolinecolor": "white"
           }
          },
          "shapedefaults": {
           "line": {
            "color": "#2a3f5f"
           }
          },
          "ternary": {
           "aaxis": {
            "gridcolor": "white",
            "linecolor": "white",
            "ticks": ""
           },
           "baxis": {
            "gridcolor": "white",
            "linecolor": "white",
            "ticks": ""
           },
           "bgcolor": "#E5ECF6",
           "caxis": {
            "gridcolor": "white",
            "linecolor": "white",
            "ticks": ""
           }
          },
          "title": {
           "x": 0.05
          },
          "xaxis": {
           "automargin": true,
           "gridcolor": "white",
           "linecolor": "white",
           "ticks": "",
           "title": {
            "standoff": 15
           },
           "zerolinecolor": "white",
           "zerolinewidth": 2
          },
          "yaxis": {
           "automargin": true,
           "gridcolor": "white",
           "linecolor": "white",
           "ticks": "",
           "title": {
            "standoff": 15
           },
           "zerolinecolor": "white",
           "zerolinewidth": 2
          }
         }
        },
        "title": {
         "text": "Weekly Covid19 Cases % Change vs. Hospitalization % Change"
        },
        "xaxis": {
         "anchor": "y",
         "domain": [
          0,
          1
         ],
         "title": {
          "text": "Week"
         }
        },
        "yaxis": {
         "anchor": "x",
         "domain": [
          0,
          1
         ],
         "title": {
          "text": "Percentage Change"
         }
        }
       }
      },
      "text/html": [
       "<div>                            <div id=\"ed535560-664a-4e7d-acbb-218e20ea3b1b\" class=\"plotly-graph-div\" style=\"height:525px; width:100%;\"></div>            <script type=\"text/javascript\">                require([\"plotly\"], function(Plotly) {                    window.PLOTLYENV=window.PLOTLYENV || {};                                    if (document.getElementById(\"ed535560-664a-4e7d-acbb-218e20ea3b1b\")) {                    Plotly.newPlot(                        \"ed535560-664a-4e7d-acbb-218e20ea3b1b\",                        [{\"hovertemplate\":\"variable=weekly_admissions<br>date=%{x}<br>value=%{y}<extra></extra>\",\"legendgroup\":\"weekly_admissions\",\"line\":{\"color\":\"#636efa\",\"dash\":\"solid\"},\"marker\":{\"symbol\":\"circle\"},\"mode\":\"lines\",\"name\":\"weekly_admissions\",\"orientation\":\"v\",\"showlegend\":true,\"x\":[\"2020-03-28\",\"2020-04-04\",\"2020-04-11\",\"2020-04-18\",\"2020-04-25\",\"2020-05-02\",\"2020-05-09\",\"2020-05-16\",\"2020-05-23\",\"2020-05-30\",\"2020-06-06\",\"2020-06-13\",\"2020-06-20\",\"2020-06-27\",\"2020-07-04\",\"2020-07-11\",\"2020-07-18\",\"2020-07-25\",\"2020-08-01\",\"2020-08-08\",\"2020-08-15\",\"2020-08-22\",\"2020-08-29\",\"2020-09-05\",\"2020-09-12\",\"2020-09-19\",\"2020-09-26\",\"2020-10-03\",\"2020-10-10\",\"2020-10-17\",\"2020-10-24\",\"2020-10-31\",\"2020-11-07\",\"2020-11-14\",\"2020-11-21\",\"2020-11-28\",\"2020-12-05\",\"2020-12-12\",\"2020-12-19\",\"2020-12-26\",\"2021-01-02\",\"2021-01-09\",\"2021-01-16\",\"2021-01-23\",\"2021-01-30\",\"2021-02-06\",\"2021-02-13\",\"2021-02-20\",\"2021-02-27\",\"2021-03-06\",\"2021-03-13\",\"2021-03-20\",\"2021-03-27\",\"2021-04-03\",\"2021-04-10\",\"2021-04-17\",\"2021-04-24\",\"2021-05-01\",\"2021-05-08\",\"2021-05-15\",\"2021-05-22\",\"2021-05-29\",\"2021-06-05\",\"2021-06-12\",\"2021-06-19\",\"2021-06-26\",\"2021-07-03\",\"2021-07-10\",\"2021-07-17\",\"2021-07-24\",\"2021-07-31\",\"2021-08-07\",\"2021-08-14\",\"2021-08-21\",\"2021-08-28\",\"2021-09-04\",\"2021-09-11\",\"2021-09-18\",\"2021-09-25\",\"2021-10-02\",\"2021-10-09\",\"2021-10-16\",\"2021-10-23\",\"2021-10-30\",\"2021-11-06\",\"2021-11-13\",\"2021-11-20\",\"2021-11-27\",\"2021-12-04\",\"2021-12-11\",\"2021-12-18\",\"2021-12-25\",\"2022-01-01\",\"2022-01-08\",\"2022-01-15\",\"2022-01-22\",\"2022-01-29\",\"2022-02-05\"],\"xaxis\":\"x\",\"y\":[4.13780260707635,0.6437114896701703,-0.004189636163175359,-0.4050044286979628,-0.3729065872720506,-0.1454005934718101,-0.23402777777777772,-0.47869446962828655,-0.16347826086956518,-0.2432432432432432,-0.0027472527472527375,-0.22038567493112948,0.05653710247349819,0.07023411371237454,-0.43125,-0.016483516483516536,-0.3184357541899442,-0.3688524590163934,-0.36363636363636365,-0.08163265306122447,0.3999999999999999,-0.4285714285714286,0.38888888888888884,0.56,0.2435897435897436,1.1237113402061856,0.2815533980582525,-0.07954545454545459,0.2674897119341564,0.6136363636363635,0.4668008048289738,0.2208504801097393,-0.08089887640449434,0.21515892420537908,0.11569416498993967,-0.09017132551848517,0.07928642220019833,0.4674012855831038,0.4330413016270338,0.5781659388646287,0.40011068068622024,0.19486166007905137,-0.10701290109163086,-0.1746619744397111,-0.27176840215439857,-0.2671802773497689,-0.30782169890664424,-0.33596597812879714,-0.3504117108874657,-0.22957746478873242,-0.3290676416819013,-0.29427792915531337,-0.20077220077220082,-0.07729468599033817,-0.12565445026178013,-0.20958083832335328,-0.09848484848484851,-0.134453781512605,-0.19417475728155342,0.20481927710843384,0.1399999999999999,0.03508771929824572,0.1694915254237288,0.3115942028985508,0.19889502762430933,-0.12903225806451613,0.4550264550264551,0.5781818181818181,0.39170506912442393,0.3990066225165563,0.07573964497041419,-0.11771177117711773,0.0037406483790523026,0.06335403726708067,0.08411214953271018,-0.09375,-0.026159334126040434,-0.23687423687423692,-0.057599999999999985,-0.10016977928692694,-0.013207547169811318,0.1988527724665392,0.08293460925039864,-0.02945508100147276,-0.02124430955993928,0.0620155038759691,-0.016058394160583966,-0.053412462908011826,0.1849529780564263,0.29761904761904767,0.37512742099898055,0.6834692364714603,0.2597974460590049,-0.1576371897937784,-0.1431535269709544,-0.1564164648910411,-0.16819747416762343,-0.0993788819875776],\"yaxis\":\"y\",\"type\":\"scatter\"},{\"hovertemplate\":\"variable=new_cases_low_pay<br>date=%{x}<br>value=%{y}<extra></extra>\",\"legendgroup\":\"new_cases_low_pay\",\"line\":{\"color\":\"#EF553B\",\"dash\":\"solid\"},\"marker\":{\"symbol\":\"circle\"},\"mode\":\"lines\",\"name\":\"new_cases_low_pay\",\"orientation\":\"v\",\"showlegend\":true,\"x\":[\"2020-03-28\",\"2020-04-04\",\"2020-04-11\",\"2020-04-18\",\"2020-04-25\",\"2020-05-02\",\"2020-05-09\",\"2020-05-16\",\"2020-05-23\",\"2020-05-30\",\"2020-06-06\",\"2020-06-13\",\"2020-06-20\",\"2020-06-27\",\"2020-07-04\",\"2020-07-11\",\"2020-07-18\",\"2020-07-25\",\"2020-08-01\",\"2020-08-08\",\"2020-08-15\",\"2020-08-22\",\"2020-08-29\",\"2020-09-05\",\"2020-09-12\",\"2020-09-19\",\"2020-09-26\",\"2020-10-03\",\"2020-10-10\",\"2020-10-17\",\"2020-10-24\",\"2020-10-31\",\"2020-11-07\",\"2020-11-14\",\"2020-11-21\",\"2020-11-28\",\"2020-12-05\",\"2020-12-12\",\"2020-12-19\",\"2020-12-26\",\"2021-01-02\",\"2021-01-09\",\"2021-01-16\",\"2021-01-23\",\"2021-01-30\",\"2021-02-06\",\"2021-02-13\",\"2021-02-20\",\"2021-02-27\",\"2021-03-06\",\"2021-03-13\",\"2021-03-20\",\"2021-03-27\",\"2021-04-03\",\"2021-04-10\",\"2021-04-17\",\"2021-04-24\",\"2021-05-01\",\"2021-05-08\",\"2021-05-15\",\"2021-05-22\",\"2021-05-29\",\"2021-06-05\",\"2021-06-12\",\"2021-06-19\",\"2021-06-26\",\"2021-07-03\",\"2021-07-10\",\"2021-07-17\",\"2021-07-24\",\"2021-07-31\",\"2021-08-07\",\"2021-08-14\",\"2021-08-21\",\"2021-08-28\",\"2021-09-04\",\"2021-09-11\",\"2021-09-18\",\"2021-09-25\",\"2021-10-02\",\"2021-10-09\",\"2021-10-16\",\"2021-10-23\",\"2021-10-30\",\"2021-11-06\",\"2021-11-13\",\"2021-11-20\",\"2021-11-27\",\"2021-12-04\",\"2021-12-11\",\"2021-12-18\",\"2021-12-25\",\"2022-01-01\",\"2022-01-08\",\"2022-01-15\",\"2022-01-22\",\"2022-01-29\",\"2022-02-05\"],\"xaxis\":\"x\",\"y\":[1.261603375527426,0.3376865671641791,-0.14365411436541142,-0.13355048859934848,-0.29323308270676696,-0.12765957446808507,-0.46036585365853655,-0.27118644067796616,-0.1705426356589147,-0.485981308411215,-0.09090909090909094,0.0,-0.43999999999999995,0.75,-0.18367346938775508,-0.25,0.5333333333333334,0.23913043478260865,0.1929824561403508,0.1470588235294117,0.3846153846153846,0.18518518518518512,-0.046875,0.7950819672131149,0.26940639269406397,-0.16546762589928055,1.0387931034482758,0.33826638477801274,0.5165876777251184,0.1791666666666667,0.4090106007067138,-0.03887147335423202,0.1611219830397912,0.21235955056179767,-0.07831325301204817,-0.11764705882352944,0.1698005698005698,0.6551388212372138,0.9617422012948793,0.3126312631263126,0.3524571428571428,-0.014027378739225993,-0.28325334247514566,-0.2960660050221212,-0.37455410225921526,-0.3177620858229223,-0.4263535031847133,-0.23108952116585701,-0.3023465703971119,-0.3078913324708926,-0.07289719626168223,-0.092741935483871,-0.01777777777777778,-0.2624434389140271,-0.07055214723926384,-0.06930693069306926,0.0957446808510638,-0.21682847896440127,-0.016528925619834656,0.11764705882352944,0.11278195488721798,0.16554054054054057,0.2927536231884058,0.3677130044843049,0.16065573770491803,0.5254237288135593,0.6574074074074074,0.3469273743016761,0.6117793446702613,-0.14539372104992276,-0.21830773863294184,0.1097842835130971,-0.01561957653592505,-0.031382228490832165,-0.014925373134328401,-0.012195121951219523,-0.05873550317994758,-0.19952305246422897,0.14001986097318775,-0.020905923344947785,0.10186832740213525,0.17723052079127988,0.19821673525377226,-0.1525472238122496,-0.09658899020601153,0.10130841121495338,0.11099796334012213,0.14695997555759233,0.2189664358018113,0.402534965034965,1.3466812090994078,0.28371290086979606,0.07701458570394126,-0.09422273447630025,-0.43534277079688244,-0.03032863849765255,-0.06420063910138474,-0.23675496688741726],\"yaxis\":\"y\",\"type\":\"scatter\"},{\"hovertemplate\":\"variable=new_cases_largeOldPopulation<br>date=%{x}<br>value=%{y}<extra></extra>\",\"legendgroup\":\"new_cases_largeOldPopulation\",\"line\":{\"color\":\"#00cc96\",\"dash\":\"solid\"},\"marker\":{\"symbol\":\"circle\"},\"mode\":\"lines\",\"name\":\"new_cases_largeOldPopulation\",\"orientation\":\"v\",\"showlegend\":true,\"x\":[\"2020-03-28\",\"2020-04-04\",\"2020-04-11\",\"2020-04-18\",\"2020-04-25\",\"2020-05-02\",\"2020-05-09\",\"2020-05-16\",\"2020-05-23\",\"2020-05-30\",\"2020-06-06\",\"2020-06-13\",\"2020-06-20\",\"2020-06-27\",\"2020-07-04\",\"2020-07-11\",\"2020-07-18\",\"2020-07-25\",\"2020-08-01\",\"2020-08-08\",\"2020-08-15\",\"2020-08-22\",\"2020-08-29\",\"2020-09-05\",\"2020-09-12\",\"2020-09-19\",\"2020-09-26\",\"2020-10-03\",\"2020-10-10\",\"2020-10-17\",\"2020-10-24\",\"2020-10-31\",\"2020-11-07\",\"2020-11-14\",\"2020-11-21\",\"2020-11-28\",\"2020-12-05\",\"2020-12-12\",\"2020-12-19\",\"2020-12-26\",\"2021-01-02\",\"2021-01-09\",\"2021-01-16\",\"2021-01-23\",\"2021-01-30\",\"2021-02-06\",\"2021-02-13\",\"2021-02-20\",\"2021-02-27\",\"2021-03-06\",\"2021-03-13\",\"2021-03-20\",\"2021-03-27\",\"2021-04-03\",\"2021-04-10\",\"2021-04-17\",\"2021-04-24\",\"2021-05-01\",\"2021-05-08\",\"2021-05-15\",\"2021-05-22\",\"2021-05-29\",\"2021-06-05\",\"2021-06-12\",\"2021-06-19\",\"2021-06-26\",\"2021-07-03\",\"2021-07-10\",\"2021-07-17\",\"2021-07-24\",\"2021-07-31\",\"2021-08-07\",\"2021-08-14\",\"2021-08-21\",\"2021-08-28\",\"2021-09-04\",\"2021-09-11\",\"2021-09-18\",\"2021-09-25\",\"2021-10-02\",\"2021-10-09\",\"2021-10-16\",\"2021-10-23\",\"2021-10-30\",\"2021-11-06\",\"2021-11-13\",\"2021-11-20\",\"2021-11-27\",\"2021-12-04\",\"2021-12-11\",\"2021-12-18\",\"2021-12-25\",\"2022-01-01\",\"2022-01-08\",\"2022-01-15\",\"2022-01-22\",\"2022-01-29\",\"2022-02-05\"],\"xaxis\":\"x\",\"y\":[1.5319148936170213,0.2584033613445378,-0.07178631051752926,-0.16366906474820142,-0.25161290322580643,-0.08620689655172409,-0.39622641509433965,-0.328125,-0.2093023255813954,-0.4117647058823529,-0.3833333333333333,0.16216216216216206,-0.4651162790697675,0.0,0.13043478260869557,0.1923076923076923,0.09677419354838701,0.6764705882352942,-0.08771929824561409,0.09615384615384626,0.7017543859649122,0.05154639175257736,0.4019607843137254,0.39160839160839167,0.03015075376884413,-0.14634146341463417,0.7257142857142858,0.7880794701986755,0.45925925925925926,0.21446700507614214,0.4263322884012539,-0.07326007326007322,0.11857707509881421,0.34134275618374565,-0.17228661749209695,-0.07574793125397838,0.278236914600551,0.6724137931034482,0.9739046391752577,0.21315488819977157,0.2240010762814475,-0.13992086172785223,-0.34121405750798717,-0.26265761396702236,-0.34411996842936066,-0.3156839149618933,-0.4273153575615475,-0.24564994882292734,-0.3120759837177748,-0.30177514792899407,0.011299435028248483,-0.15642458100558654,0.13576158940397343,-0.1574344023323615,-0.22491349480968859,-0.0982142857142857,0.04950495049504955,-0.15094339622641506,-0.12777777777777777,0.1146496815286624,0.02285714285714291,0.6145251396648044,0.25951557093425603,0.3873626373626373,0.25742574257425743,0.6299212598425197,0.6357487922705314,0.37743650324867106,0.7632933104631219,-0.2356517509727627,-0.25707922367165126,0.03297644539614564,-0.024461028192371503,0.005949851253718608,-0.031263202365863996,0.04012211077191452,-0.09224318658280928,-0.14965357967667436,0.20695274307441602,0.005400540054005365,0.06982990152193369,0.23723849372384942,0.2367264119039567,-0.14656822532130165,-0.18519705222685034,0.25914274478961863,0.12866958151155528,0.16297731045932484,0.19295741137282896,0.2576785001994415,1.4333967649857278,0.17478005865102642,-0.012592222776945716,-0.15533707865168545,-0.4144329896907216,0.099273057701045,-0.024488530688158705,-0.2159728842283657],\"yaxis\":\"y\",\"type\":\"scatter\"}],                        {\"template\":{\"data\":{\"bar\":[{\"error_x\":{\"color\":\"#2a3f5f\"},\"error_y\":{\"color\":\"#2a3f5f\"},\"marker\":{\"line\":{\"color\":\"#E5ECF6\",\"width\":0.5},\"pattern\":{\"fillmode\":\"overlay\",\"size\":10,\"solidity\":0.2}},\"type\":\"bar\"}],\"barpolar\":[{\"marker\":{\"line\":{\"color\":\"#E5ECF6\",\"width\":0.5},\"pattern\":{\"fillmode\":\"overlay\",\"size\":10,\"solidity\":0.2}},\"type\":\"barpolar\"}],\"carpet\":[{\"aaxis\":{\"endlinecolor\":\"#2a3f5f\",\"gridcolor\":\"white\",\"linecolor\":\"white\",\"minorgridcolor\":\"white\",\"startlinecolor\":\"#2a3f5f\"},\"baxis\":{\"endlinecolor\":\"#2a3f5f\",\"gridcolor\":\"white\",\"linecolor\":\"white\",\"minorgridcolor\":\"white\",\"startlinecolor\":\"#2a3f5f\"},\"type\":\"carpet\"}],\"choropleth\":[{\"colorbar\":{\"outlinewidth\":0,\"ticks\":\"\"},\"type\":\"choropleth\"}],\"contour\":[{\"colorbar\":{\"outlinewidth\":0,\"ticks\":\"\"},\"colorscale\":[[0.0,\"#0d0887\"],[0.1111111111111111,\"#46039f\"],[0.2222222222222222,\"#7201a8\"],[0.3333333333333333,\"#9c179e\"],[0.4444444444444444,\"#bd3786\"],[0.5555555555555556,\"#d8576b\"],[0.6666666666666666,\"#ed7953\"],[0.7777777777777778,\"#fb9f3a\"],[0.8888888888888888,\"#fdca26\"],[1.0,\"#f0f921\"]],\"type\":\"contour\"}],\"contourcarpet\":[{\"colorbar\":{\"outlinewidth\":0,\"ticks\":\"\"},\"type\":\"contourcarpet\"}],\"heatmap\":[{\"colorbar\":{\"outlinewidth\":0,\"ticks\":\"\"},\"colorscale\":[[0.0,\"#0d0887\"],[0.1111111111111111,\"#46039f\"],[0.2222222222222222,\"#7201a8\"],[0.3333333333333333,\"#9c179e\"],[0.4444444444444444,\"#bd3786\"],[0.5555555555555556,\"#d8576b\"],[0.6666666666666666,\"#ed7953\"],[0.7777777777777778,\"#fb9f3a\"],[0.8888888888888888,\"#fdca26\"],[1.0,\"#f0f921\"]],\"type\":\"heatmap\"}],\"heatmapgl\":[{\"colorbar\":{\"outlinewidth\":0,\"ticks\":\"\"},\"colorscale\":[[0.0,\"#0d0887\"],[0.1111111111111111,\"#46039f\"],[0.2222222222222222,\"#7201a8\"],[0.3333333333333333,\"#9c179e\"],[0.4444444444444444,\"#bd3786\"],[0.5555555555555556,\"#d8576b\"],[0.6666666666666666,\"#ed7953\"],[0.7777777777777778,\"#fb9f3a\"],[0.8888888888888888,\"#fdca26\"],[1.0,\"#f0f921\"]],\"type\":\"heatmapgl\"}],\"histogram\":[{\"marker\":{\"pattern\":{\"fillmode\":\"overlay\",\"size\":10,\"solidity\":0.2}},\"type\":\"histogram\"}],\"histogram2d\":[{\"colorbar\":{\"outlinewidth\":0,\"ticks\":\"\"},\"colorscale\":[[0.0,\"#0d0887\"],[0.1111111111111111,\"#46039f\"],[0.2222222222222222,\"#7201a8\"],[0.3333333333333333,\"#9c179e\"],[0.4444444444444444,\"#bd3786\"],[0.5555555555555556,\"#d8576b\"],[0.6666666666666666,\"#ed7953\"],[0.7777777777777778,\"#fb9f3a\"],[0.8888888888888888,\"#fdca26\"],[1.0,\"#f0f921\"]],\"type\":\"histogram2d\"}],\"histogram2dcontour\":[{\"colorbar\":{\"outlinewidth\":0,\"ticks\":\"\"},\"colorscale\":[[0.0,\"#0d0887\"],[0.1111111111111111,\"#46039f\"],[0.2222222222222222,\"#7201a8\"],[0.3333333333333333,\"#9c179e\"],[0.4444444444444444,\"#bd3786\"],[0.5555555555555556,\"#d8576b\"],[0.6666666666666666,\"#ed7953\"],[0.7777777777777778,\"#fb9f3a\"],[0.8888888888888888,\"#fdca26\"],[1.0,\"#f0f921\"]],\"type\":\"histogram2dcontour\"}],\"mesh3d\":[{\"colorbar\":{\"outlinewidth\":0,\"ticks\":\"\"},\"type\":\"mesh3d\"}],\"parcoords\":[{\"line\":{\"colorbar\":{\"outlinewidth\":0,\"ticks\":\"\"}},\"type\":\"parcoords\"}],\"pie\":[{\"automargin\":true,\"type\":\"pie\"}],\"scatter\":[{\"marker\":{\"colorbar\":{\"outlinewidth\":0,\"ticks\":\"\"}},\"type\":\"scatter\"}],\"scatter3d\":[{\"line\":{\"colorbar\":{\"outlinewidth\":0,\"ticks\":\"\"}},\"marker\":{\"colorbar\":{\"outlinewidth\":0,\"ticks\":\"\"}},\"type\":\"scatter3d\"}],\"scattercarpet\":[{\"marker\":{\"colorbar\":{\"outlinewidth\":0,\"ticks\":\"\"}},\"type\":\"scattercarpet\"}],\"scattergeo\":[{\"marker\":{\"colorbar\":{\"outlinewidth\":0,\"ticks\":\"\"}},\"type\":\"scattergeo\"}],\"scattergl\":[{\"marker\":{\"colorbar\":{\"outlinewidth\":0,\"ticks\":\"\"}},\"type\":\"scattergl\"}],\"scattermapbox\":[{\"marker\":{\"colorbar\":{\"outlinewidth\":0,\"ticks\":\"\"}},\"type\":\"scattermapbox\"}],\"scatterpolar\":[{\"marker\":{\"colorbar\":{\"outlinewidth\":0,\"ticks\":\"\"}},\"type\":\"scatterpolar\"}],\"scatterpolargl\":[{\"marker\":{\"colorbar\":{\"outlinewidth\":0,\"ticks\":\"\"}},\"type\":\"scatterpolargl\"}],\"scatterternary\":[{\"marker\":{\"colorbar\":{\"outlinewidth\":0,\"ticks\":\"\"}},\"type\":\"scatterternary\"}],\"surface\":[{\"colorbar\":{\"outlinewidth\":0,\"ticks\":\"\"},\"colorscale\":[[0.0,\"#0d0887\"],[0.1111111111111111,\"#46039f\"],[0.2222222222222222,\"#7201a8\"],[0.3333333333333333,\"#9c179e\"],[0.4444444444444444,\"#bd3786\"],[0.5555555555555556,\"#d8576b\"],[0.6666666666666666,\"#ed7953\"],[0.7777777777777778,\"#fb9f3a\"],[0.8888888888888888,\"#fdca26\"],[1.0,\"#f0f921\"]],\"type\":\"surface\"}],\"table\":[{\"cells\":{\"fill\":{\"color\":\"#EBF0F8\"},\"line\":{\"color\":\"white\"}},\"header\":{\"fill\":{\"color\":\"#C8D4E3\"},\"line\":{\"color\":\"white\"}},\"type\":\"table\"}]},\"layout\":{\"annotationdefaults\":{\"arrowcolor\":\"#2a3f5f\",\"arrowhead\":0,\"arrowwidth\":1},\"autotypenumbers\":\"strict\",\"coloraxis\":{\"colorbar\":{\"outlinewidth\":0,\"ticks\":\"\"}},\"colorscale\":{\"diverging\":[[0,\"#8e0152\"],[0.1,\"#c51b7d\"],[0.2,\"#de77ae\"],[0.3,\"#f1b6da\"],[0.4,\"#fde0ef\"],[0.5,\"#f7f7f7\"],[0.6,\"#e6f5d0\"],[0.7,\"#b8e186\"],[0.8,\"#7fbc41\"],[0.9,\"#4d9221\"],[1,\"#276419\"]],\"sequential\":[[0.0,\"#0d0887\"],[0.1111111111111111,\"#46039f\"],[0.2222222222222222,\"#7201a8\"],[0.3333333333333333,\"#9c179e\"],[0.4444444444444444,\"#bd3786\"],[0.5555555555555556,\"#d8576b\"],[0.6666666666666666,\"#ed7953\"],[0.7777777777777778,\"#fb9f3a\"],[0.8888888888888888,\"#fdca26\"],[1.0,\"#f0f921\"]],\"sequentialminus\":[[0.0,\"#0d0887\"],[0.1111111111111111,\"#46039f\"],[0.2222222222222222,\"#7201a8\"],[0.3333333333333333,\"#9c179e\"],[0.4444444444444444,\"#bd3786\"],[0.5555555555555556,\"#d8576b\"],[0.6666666666666666,\"#ed7953\"],[0.7777777777777778,\"#fb9f3a\"],[0.8888888888888888,\"#fdca26\"],[1.0,\"#f0f921\"]]},\"colorway\":[\"#636efa\",\"#EF553B\",\"#00cc96\",\"#ab63fa\",\"#FFA15A\",\"#19d3f3\",\"#FF6692\",\"#B6E880\",\"#FF97FF\",\"#FECB52\"],\"font\":{\"color\":\"#2a3f5f\"},\"geo\":{\"bgcolor\":\"white\",\"lakecolor\":\"white\",\"landcolor\":\"#E5ECF6\",\"showlakes\":true,\"showland\":true,\"subunitcolor\":\"white\"},\"hoverlabel\":{\"align\":\"left\"},\"hovermode\":\"closest\",\"mapbox\":{\"style\":\"light\"},\"paper_bgcolor\":\"white\",\"plot_bgcolor\":\"#E5ECF6\",\"polar\":{\"angularaxis\":{\"gridcolor\":\"white\",\"linecolor\":\"white\",\"ticks\":\"\"},\"bgcolor\":\"#E5ECF6\",\"radialaxis\":{\"gridcolor\":\"white\",\"linecolor\":\"white\",\"ticks\":\"\"}},\"scene\":{\"xaxis\":{\"backgroundcolor\":\"#E5ECF6\",\"gridcolor\":\"white\",\"gridwidth\":2,\"linecolor\":\"white\",\"showbackground\":true,\"ticks\":\"\",\"zerolinecolor\":\"white\"},\"yaxis\":{\"backgroundcolor\":\"#E5ECF6\",\"gridcolor\":\"white\",\"gridwidth\":2,\"linecolor\":\"white\",\"showbackground\":true,\"ticks\":\"\",\"zerolinecolor\":\"white\"},\"zaxis\":{\"backgroundcolor\":\"#E5ECF6\",\"gridcolor\":\"white\",\"gridwidth\":2,\"linecolor\":\"white\",\"showbackground\":true,\"ticks\":\"\",\"zerolinecolor\":\"white\"}},\"shapedefaults\":{\"line\":{\"color\":\"#2a3f5f\"}},\"ternary\":{\"aaxis\":{\"gridcolor\":\"white\",\"linecolor\":\"white\",\"ticks\":\"\"},\"baxis\":{\"gridcolor\":\"white\",\"linecolor\":\"white\",\"ticks\":\"\"},\"bgcolor\":\"#E5ECF6\",\"caxis\":{\"gridcolor\":\"white\",\"linecolor\":\"white\",\"ticks\":\"\"}},\"title\":{\"x\":0.05},\"xaxis\":{\"automargin\":true,\"gridcolor\":\"white\",\"linecolor\":\"white\",\"ticks\":\"\",\"title\":{\"standoff\":15},\"zerolinecolor\":\"white\",\"zerolinewidth\":2},\"yaxis\":{\"automargin\":true,\"gridcolor\":\"white\",\"linecolor\":\"white\",\"ticks\":\"\",\"title\":{\"standoff\":15},\"zerolinecolor\":\"white\",\"zerolinewidth\":2}}},\"xaxis\":{\"anchor\":\"y\",\"domain\":[0.0,1.0],\"title\":{\"text\":\"Week\"}},\"yaxis\":{\"anchor\":\"x\",\"domain\":[0.0,1.0],\"title\":{\"text\":\"Percentage Change\"}},\"legend\":{\"title\":{\"text\":\"Cluster Groups\"},\"tracegroupgap\":0},\"margin\":{\"t\":60},\"font\":{\"family\":\"Courier New, monospace\",\"size\":15,\"color\":\"RebeccaPurple\"},\"title\":{\"text\":\"Weekly Covid19 Cases % Change vs. Hospitalization % Change\"}},                        {\"responsive\": true}                    ).then(function(){\n",
       "                            \n",
       "var gd = document.getElementById('ed535560-664a-4e7d-acbb-218e20ea3b1b');\n",
       "var x = new MutationObserver(function (mutations, observer) {{\n",
       "        var display = window.getComputedStyle(gd).display;\n",
       "        if (!display || display === 'none') {{\n",
       "            console.log([gd, 'removed!']);\n",
       "            Plotly.purge(gd);\n",
       "            observer.disconnect();\n",
       "        }}\n",
       "}});\n",
       "\n",
       "// Listen for the removal of the full notebook cells\n",
       "var notebookContainer = gd.closest('#notebook-container');\n",
       "if (notebookContainer) {{\n",
       "    x.observe(notebookContainer, {childList: true});\n",
       "}}\n",
       "\n",
       "// Listen for the clearing of the current output cell\n",
       "var outputEl = gd.closest('.output');\n",
       "if (outputEl) {{\n",
       "    x.observe(outputEl, {childList: true});\n",
       "}}\n",
       "\n",
       "                        })                };                });            </script>        </div>"
      ]
     },
     "metadata": {},
     "output_type": "display_data"
    }
   ],
   "source": [
    "#looking at how each cluster performs vs weekly_admission.\n",
    "significant = combo[['weekly_admissions', 'new_cases_low_pay', 'new_cases_largeOldPopulation']]\n",
    "\n",
    "graph = px.line(significant, x=significant.index, y=list(significant))\n",
    "graph\n",
    "\n",
    "graph.update_layout(\n",
    "    title='Weekly Covid19 Cases % Change vs. Hospitalization % Change',\n",
    "    xaxis_title=\"Week\",\n",
    "    yaxis_title=\"Percentage Change\",\n",
    "    legend_title=\"Cluster Groups\",\n",
    "    font=dict(\n",
    "        family=\"Courier New, monospace\",\n",
    "        size=15,\n",
    "        color=\"RebeccaPurple\"\n",
    "    )\n",
    ")"
   ]
  },
  {
   "cell_type": "code",
   "execution_count": null,
   "id": "d68e4c59",
   "metadata": {},
   "outputs": [],
   "source": []
  },
  {
   "cell_type": "code",
   "execution_count": 229,
   "id": "7abc64c9",
   "metadata": {},
   "outputs": [
    {
     "data": {
      "text/html": [
       "<div>\n",
       "<style scoped>\n",
       "    .dataframe tbody tr th:only-of-type {\n",
       "        vertical-align: middle;\n",
       "    }\n",
       "\n",
       "    .dataframe tbody tr th {\n",
       "        vertical-align: top;\n",
       "    }\n",
       "\n",
       "    .dataframe thead th {\n",
       "        text-align: right;\n",
       "    }\n",
       "</style>\n",
       "<table border=\"1\" class=\"dataframe\">\n",
       "  <thead>\n",
       "    <tr style=\"text-align: right;\">\n",
       "      <th></th>\n",
       "      <th>area_name</th>\n",
       "      <th>Weekly_Pay</th>\n",
       "      <th>Old_rest_ratio</th>\n",
       "    </tr>\n",
       "  </thead>\n",
       "  <tbody>\n",
       "    <tr>\n",
       "      <th>0</th>\n",
       "      <td>Sutton</td>\n",
       "      <td>650.6</td>\n",
       "      <td>0.181557</td>\n",
       "    </tr>\n",
       "    <tr>\n",
       "      <th>1</th>\n",
       "      <td>Barnet</td>\n",
       "      <td>616.9</td>\n",
       "      <td>0.170668</td>\n",
       "    </tr>\n",
       "  </tbody>\n",
       "</table>\n",
       "</div>"
      ],
      "text/plain": [
       "  area_name Weekly_Pay  Old_rest_ratio\n",
       "0    Sutton      650.6        0.181557\n",
       "1    Barnet      616.9        0.170668"
      ]
     },
     "execution_count": 229,
     "metadata": {},
     "output_type": "execute_result"
    }
   ],
   "source": [
    "#finding boroughs with overlapping characteristics.\n",
    "\n",
    "mix = pd.merge(lowPay, oldPopulation_high, on='area_name').drop(columns={'Unnamed: 2'})\n",
    "mix"
   ]
  },
  {
   "cell_type": "code",
   "execution_count": null,
   "id": "70ad8ec6",
   "metadata": {},
   "outputs": [],
   "source": []
  },
  {
   "cell_type": "code",
   "execution_count": 230,
   "id": "20342a55",
   "metadata": {},
   "outputs": [
    {
     "data": {
      "text/plain": [
       "(-0.5525946011260483,\n",
       " 0.37623509511498954,\n",
       " 51.26650445816394,\n",
       " 51.71212980719948)"
      ]
     },
     "execution_count": 230,
     "metadata": {},
     "output_type": "execute_result"
    },
    {
     "data": {
      "image/png": "[encoded data removed]",
      "text/plain": [
       "<Figure size 1152x1152 with 1 Axes>"
      ]
     },
     "metadata": {
      "needs_background": "light"
     },
     "output_type": "display_data"
    }
   ],
   "source": [
    "#making a graph showing the boroughs with overlapping characteristics.\n",
    "\n",
    "import matplotlib.pyplot as plt\n",
    "\n",
    "# # create figure and axes for Matplotlib\n",
    "fig, ax = plt.subplots(figsize=(16,16))\n",
    "\n",
    "\n",
    "fp = \"london_shapefile/London_Borough_Excluding_MHW.shp\"\n",
    "map_df = gpd.read_file(fp)\n",
    "map_df = map_df[['NAME', 'geometry']]\n",
    "map_df.to_crs(pyproj.CRS.from_epsg(4326), inplace=True)\n",
    "map_df = map_df.rename(columns={\"NAME\": \"area_name\"})\n",
    "\n",
    "g = map_df.merge(mix, on='area_name', how='outer')\n",
    "g['Weekly_Pay'] = g['Weekly_Pay'].fillna(0)\n",
    "g\n",
    "\n",
    "#plot the map of london\n",
    "sc = g.plot(column='Weekly_Pay', cmap=\"Blues\", linewidth=0.4, ax=ax, edgecolor='0.8')\n",
    "sc\n",
    "\n",
    "ax.axis('off')"
   ]
  },
  {
   "cell_type": "code",
   "execution_count": null,
   "id": "e8670f30",
   "metadata": {},
   "outputs": [],
   "source": []
  },
  {
   "cell_type": "code",
   "execution_count": null,
   "id": "55f6ace4",
   "metadata": {},
   "outputs": [],
   "source": []
  },
  {
   "cell_type": "code",
   "execution_count": null,
   "id": "98a0e614",
   "metadata": {},
   "outputs": [],
   "source": []
  },
  {
   "cell_type": "code",
   "execution_count": null,
   "id": "5ef68197",
   "metadata": {},
   "outputs": [],
   "source": []
  },
  {
   "cell_type": "code",
   "execution_count": null,
   "id": "52756158",
   "metadata": {},
   "outputs": [],
   "source": []
  },
  {
   "cell_type": "code",
   "execution_count": null,
   "id": "349f7516",
   "metadata": {},
   "outputs": [],
   "source": []
  },
  {
   "cell_type": "code",
   "execution_count": null,
   "id": "7696a325",
   "metadata": {},
   "outputs": [],
   "source": []
  },
  {
   "cell_type": "code",
   "execution_count": null,
   "id": "1b3bbf1f",
   "metadata": {},
   "outputs": [],
   "source": []
  },
  {
   "cell_type": "code",
   "execution_count": null,
   "id": "f0aa94e1",
   "metadata": {},
   "outputs": [],
   "source": []
  },
  {
   "cell_type": "code",
   "execution_count": null,
   "id": "30230e4a",
   "metadata": {},
   "outputs": [],
   "source": []
  },
  {
   "cell_type": "code",
   "execution_count": null,
   "id": "dee6ae3e",
   "metadata": {},
   "outputs": [],
   "source": []
  },
  {
   "cell_type": "code",
   "execution_count": null,
   "id": "2d81e773",
   "metadata": {},
   "outputs": [],
   "source": []
  }
 ],
 "metadata": {
  "kernelspec": {
   "display_name": "my_env",
   "language": "python",
   "name": "my_env"
  },
  "language_info": {
   "codemirror_mode": {
    "name": "ipython",
    "version": 3
   },
   "file_extension": ".py",
   "mimetype": "text/x-python",
   "name": "python",
   "nbconvert_exporter": "python",
   "pygments_lexer": "ipython3",
   "version": "3.9.7"
  }
 },
 "nbformat": 4,
 "nbformat_minor": 5
}
